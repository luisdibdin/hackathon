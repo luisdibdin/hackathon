{
 "cells": [
  {
   "cell_type": "code",
   "execution_count": 2,
   "metadata": {},
   "outputs": [],
   "source": [
    "import pandas as pd\n",
    "import plotly.express as px"
   ]
  },
  {
   "cell_type": "code",
   "execution_count": 5,
   "metadata": {},
   "outputs": [],
   "source": [
    "df = pd.read_csv(\"../data_raw/lrf_public_file_review.tab\", sep=\"\\t\", engine=\"python\")"
   ]
  },
  {
   "cell_type": "code",
   "execution_count": 382,
   "metadata": {},
   "outputs": [],
   "source": [
    "relevant_keys = {\n",
    "    \"L3_A\": \"In your own words, what is the greatest source of RISK TO YOUR SAFETY in your daily life?\",\n",
    "    \"L3_B\": \"Other than what you just mentioned in your own words what is another MAJOR source of RISK TO YOUR SAFETY in your daily life?\",\n",
    "    \"L5\": \"Do you think that climate change is a very serious threat, a somewhat serious threat, or not a threat at all to the people in this country in the next 20 years?\"\n",
    "}"
   ]
  },
  {
   "cell_type": "code",
   "execution_count": 183,
   "metadata": {},
   "outputs": [],
   "source": [
    "survey_columns = df.columns[df.columns.str.startswith(\"L\")].to_list()\n",
    "drop_columns = [item for item in survey_columns if item not in list(relevant_keys.keys())]\n",
    "df_relevant = df.drop(drop_columns, axis=1)"
   ]
  },
  {
   "cell_type": "code",
   "execution_count": 374,
   "metadata": {},
   "outputs": [],
   "source": [
    "bins = [15, 18, 31, 65, 100]\n",
    "labels = [\"15 to 17\", \"18 to 30\", \"31 to 64\", \"65+\"]\n",
    "\n",
    "df_relevant[\"AgeGroup\"] = pd.cut(df_relevant[\"Age\"], bins=bins, labels=labels, right=False)"
   ]
  },
  {
   "cell_type": "code",
   "execution_count": 375,
   "metadata": {},
   "outputs": [],
   "source": [
    "l3_a = df_relevant.pivot_table(index=[\"Country\", \"AgeGroup\"], columns=\"L3_A\", values=\"projection_weight\", aggfunc='sum').astype(int)\n",
    "l3_a = l3_a.rename_axis(None, axis=1)\n",
    "l3_a.columns = l3_a.columns.astype(str)\n",
    "\n",
    "l3_b = df_relevant.pivot_table(index=[\"Country\", \"AgeGroup\"], columns=\"L3_B\", values=\"projection_weight\", aggfunc='sum').astype(int)\n",
    "l3_b = l3_b.rename({\" \": \"99\"}, axis=1)\n",
    "l3_b = l3_b.rename_axis(None, axis=1)\n",
    "\n",
    "l3 = l3_a + l3_a\n",
    "\n",
    "l5 = df_relevant.pivot_table(index=[\"Country\", \"AgeGroup\"], columns=\"L5\", values=\"projection_weight\", aggfunc='sum').astype(int)\n",
    "l5 = l5.drop([98, 99], axis=1)"
   ]
  },
  {
   "cell_type": "code",
   "execution_count": 385,
   "metadata": {},
   "outputs": [
    {
     "data": {
      "application/vnd.plotly.v1+json": {
       "config": {
        "plotlyServerURL": "https://plot.ly"
       },
       "data": [
        {
         "name": "Very serious threat",
         "type": "bar",
         "visible": true,
         "x": [
          "15 to 17",
          "18 to 30",
          "31 to 64",
          "65+"
         ],
         "y": [
          874226,
          7084469,
          22010762,
          7769387
         ]
        },
        {
         "name": "Somewhat serious threat",
         "type": "bar",
         "visible": true,
         "x": [
          "15 to 17",
          "18 to 30",
          "31 to 64",
          "65+"
         ],
         "y": [
          203909,
          2057867,
          5815829,
          1968022
         ]
        },
        {
         "name": "Not a threat at all",
         "type": "bar",
         "visible": true,
         "x": [
          "15 to 17",
          "18 to 30",
          "31 to 64",
          "65+"
         ],
         "y": [
          92113,
          930925,
          1657097,
          1197165
         ]
        },
        {
         "name": "Very serious threat",
         "type": "bar",
         "visible": false,
         "x": [
          "15 to 17",
          "18 to 30",
          "31 to 64",
          "65+"
         ],
         "y": [
          26159,
          496029,
          1421893,
          376116
         ]
        },
        {
         "name": "Somewhat serious threat",
         "type": "bar",
         "visible": false,
         "x": [
          "15 to 17",
          "18 to 30",
          "31 to 64",
          "65+"
         ],
         "y": [
          3375,
          183624,
          523771,
          126171
         ]
        },
        {
         "name": "Not a threat at all",
         "type": "bar",
         "visible": false,
         "x": [
          "15 to 17",
          "18 to 30",
          "31 to 64",
          "65+"
         ],
         "y": [
          19389,
          119229,
          195481,
          19659
         ]
        },
        {
         "name": "Very serious threat",
         "type": "bar",
         "visible": false,
         "x": [
          "15 to 17",
          "18 to 30",
          "31 to 64",
          "65+"
         ],
         "y": [
          426197,
          6446809,
          18268033,
          6619973
         ]
        },
        {
         "name": "Somewhat serious threat",
         "type": "bar",
         "visible": false,
         "x": [
          "15 to 17",
          "18 to 30",
          "31 to 64",
          "65+"
         ],
         "y": [
          0,
          3924769,
          10029854,
          5249897
         ]
        },
        {
         "name": "Not a threat at all",
         "type": "bar",
         "visible": false,
         "x": [
          "15 to 17",
          "18 to 30",
          "31 to 64",
          "65+"
         ],
         "y": [
          0,
          373828,
          1184565,
          581939
         ]
        },
        {
         "name": "Very serious threat",
         "type": "bar",
         "visible": false,
         "x": [
          "15 to 17",
          "18 to 30",
          "31 to 64",
          "65+"
         ],
         "y": [
          0,
          8517941,
          20976851,
          9679500
         ]
        },
        {
         "name": "Somewhat serious threat",
         "type": "bar",
         "visible": false,
         "x": [
          "15 to 17",
          "18 to 30",
          "31 to 64",
          "65+"
         ],
         "y": [
          0,
          2467661,
          14942641,
          6805944
         ]
        },
        {
         "name": "Not a threat at all",
         "type": "bar",
         "visible": false,
         "x": [
          "15 to 17",
          "18 to 30",
          "31 to 64",
          "65+"
         ],
         "y": [
          0,
          1048044,
          2802210,
          940355
         ]
        },
        {
         "name": "Very serious threat",
         "type": "bar",
         "visible": false,
         "x": [
          "15 to 17",
          "18 to 30",
          "31 to 64",
          "65+"
         ],
         "y": [
          527288,
          6575374,
          20688690,
          5899425
         ]
        },
        {
         "name": "Somewhat serious threat",
         "type": "bar",
         "visible": false,
         "x": [
          "15 to 17",
          "18 to 30",
          "31 to 64",
          "65+"
         ],
         "y": [
          127039,
          1224419,
          1770258,
          832017
         ]
        },
        {
         "name": "Not a threat at all",
         "type": "bar",
         "visible": false,
         "x": [
          "15 to 17",
          "18 to 30",
          "31 to 64",
          "65+"
         ],
         "y": [
          0,
          259348,
          811895,
          90637
         ]
        },
        {
         "name": "Very serious threat",
         "type": "bar",
         "visible": false,
         "x": [
          "15 to 17",
          "18 to 30",
          "31 to 64",
          "65+"
         ],
         "y": [
          77421,
          1253344,
          3494742,
          982520
         ]
        },
        {
         "name": "Somewhat serious threat",
         "type": "bar",
         "visible": false,
         "x": [
          "15 to 17",
          "18 to 30",
          "31 to 64",
          "65+"
         ],
         "y": [
          437437,
          865014,
          3118465,
          1672319
         ]
        },
        {
         "name": "Not a threat at all",
         "type": "bar",
         "visible": false,
         "x": [
          "15 to 17",
          "18 to 30",
          "31 to 64",
          "65+"
         ],
         "y": [
          0,
          344198,
          928312,
          388397
         ]
        }
       ],
       "layout": {
        "barmode": "stack",
        "template": {
         "data": {
          "bar": [
           {
            "error_x": {
             "color": "#2a3f5f"
            },
            "error_y": {
             "color": "#2a3f5f"
            },
            "marker": {
             "line": {
              "color": "#E5ECF6",
              "width": 0.5
             },
             "pattern": {
              "fillmode": "overlay",
              "size": 10,
              "solidity": 0.2
             }
            },
            "type": "bar"
           }
          ],
          "barpolar": [
           {
            "marker": {
             "line": {
              "color": "#E5ECF6",
              "width": 0.5
             },
             "pattern": {
              "fillmode": "overlay",
              "size": 10,
              "solidity": 0.2
             }
            },
            "type": "barpolar"
           }
          ],
          "carpet": [
           {
            "aaxis": {
             "endlinecolor": "#2a3f5f",
             "gridcolor": "white",
             "linecolor": "white",
             "minorgridcolor": "white",
             "startlinecolor": "#2a3f5f"
            },
            "baxis": {
             "endlinecolor": "#2a3f5f",
             "gridcolor": "white",
             "linecolor": "white",
             "minorgridcolor": "white",
             "startlinecolor": "#2a3f5f"
            },
            "type": "carpet"
           }
          ],
          "choropleth": [
           {
            "colorbar": {
             "outlinewidth": 0,
             "ticks": ""
            },
            "type": "choropleth"
           }
          ],
          "contour": [
           {
            "colorbar": {
             "outlinewidth": 0,
             "ticks": ""
            },
            "colorscale": [
             [
              0,
              "#0d0887"
             ],
             [
              0.1111111111111111,
              "#46039f"
             ],
             [
              0.2222222222222222,
              "#7201a8"
             ],
             [
              0.3333333333333333,
              "#9c179e"
             ],
             [
              0.4444444444444444,
              "#bd3786"
             ],
             [
              0.5555555555555556,
              "#d8576b"
             ],
             [
              0.6666666666666666,
              "#ed7953"
             ],
             [
              0.7777777777777778,
              "#fb9f3a"
             ],
             [
              0.8888888888888888,
              "#fdca26"
             ],
             [
              1,
              "#f0f921"
             ]
            ],
            "type": "contour"
           }
          ],
          "contourcarpet": [
           {
            "colorbar": {
             "outlinewidth": 0,
             "ticks": ""
            },
            "type": "contourcarpet"
           }
          ],
          "heatmap": [
           {
            "colorbar": {
             "outlinewidth": 0,
             "ticks": ""
            },
            "colorscale": [
             [
              0,
              "#0d0887"
             ],
             [
              0.1111111111111111,
              "#46039f"
             ],
             [
              0.2222222222222222,
              "#7201a8"
             ],
             [
              0.3333333333333333,
              "#9c179e"
             ],
             [
              0.4444444444444444,
              "#bd3786"
             ],
             [
              0.5555555555555556,
              "#d8576b"
             ],
             [
              0.6666666666666666,
              "#ed7953"
             ],
             [
              0.7777777777777778,
              "#fb9f3a"
             ],
             [
              0.8888888888888888,
              "#fdca26"
             ],
             [
              1,
              "#f0f921"
             ]
            ],
            "type": "heatmap"
           }
          ],
          "heatmapgl": [
           {
            "colorbar": {
             "outlinewidth": 0,
             "ticks": ""
            },
            "colorscale": [
             [
              0,
              "#0d0887"
             ],
             [
              0.1111111111111111,
              "#46039f"
             ],
             [
              0.2222222222222222,
              "#7201a8"
             ],
             [
              0.3333333333333333,
              "#9c179e"
             ],
             [
              0.4444444444444444,
              "#bd3786"
             ],
             [
              0.5555555555555556,
              "#d8576b"
             ],
             [
              0.6666666666666666,
              "#ed7953"
             ],
             [
              0.7777777777777778,
              "#fb9f3a"
             ],
             [
              0.8888888888888888,
              "#fdca26"
             ],
             [
              1,
              "#f0f921"
             ]
            ],
            "type": "heatmapgl"
           }
          ],
          "histogram": [
           {
            "marker": {
             "pattern": {
              "fillmode": "overlay",
              "size": 10,
              "solidity": 0.2
             }
            },
            "type": "histogram"
           }
          ],
          "histogram2d": [
           {
            "colorbar": {
             "outlinewidth": 0,
             "ticks": ""
            },
            "colorscale": [
             [
              0,
              "#0d0887"
             ],
             [
              0.1111111111111111,
              "#46039f"
             ],
             [
              0.2222222222222222,
              "#7201a8"
             ],
             [
              0.3333333333333333,
              "#9c179e"
             ],
             [
              0.4444444444444444,
              "#bd3786"
             ],
             [
              0.5555555555555556,
              "#d8576b"
             ],
             [
              0.6666666666666666,
              "#ed7953"
             ],
             [
              0.7777777777777778,
              "#fb9f3a"
             ],
             [
              0.8888888888888888,
              "#fdca26"
             ],
             [
              1,
              "#f0f921"
             ]
            ],
            "type": "histogram2d"
           }
          ],
          "histogram2dcontour": [
           {
            "colorbar": {
             "outlinewidth": 0,
             "ticks": ""
            },
            "colorscale": [
             [
              0,
              "#0d0887"
             ],
             [
              0.1111111111111111,
              "#46039f"
             ],
             [
              0.2222222222222222,
              "#7201a8"
             ],
             [
              0.3333333333333333,
              "#9c179e"
             ],
             [
              0.4444444444444444,
              "#bd3786"
             ],
             [
              0.5555555555555556,
              "#d8576b"
             ],
             [
              0.6666666666666666,
              "#ed7953"
             ],
             [
              0.7777777777777778,
              "#fb9f3a"
             ],
             [
              0.8888888888888888,
              "#fdca26"
             ],
             [
              1,
              "#f0f921"
             ]
            ],
            "type": "histogram2dcontour"
           }
          ],
          "mesh3d": [
           {
            "colorbar": {
             "outlinewidth": 0,
             "ticks": ""
            },
            "type": "mesh3d"
           }
          ],
          "parcoords": [
           {
            "line": {
             "colorbar": {
              "outlinewidth": 0,
              "ticks": ""
             }
            },
            "type": "parcoords"
           }
          ],
          "pie": [
           {
            "automargin": true,
            "type": "pie"
           }
          ],
          "scatter": [
           {
            "fillpattern": {
             "fillmode": "overlay",
             "size": 10,
             "solidity": 0.2
            },
            "type": "scatter"
           }
          ],
          "scatter3d": [
           {
            "line": {
             "colorbar": {
              "outlinewidth": 0,
              "ticks": ""
             }
            },
            "marker": {
             "colorbar": {
              "outlinewidth": 0,
              "ticks": ""
             }
            },
            "type": "scatter3d"
           }
          ],
          "scattercarpet": [
           {
            "marker": {
             "colorbar": {
              "outlinewidth": 0,
              "ticks": ""
             }
            },
            "type": "scattercarpet"
           }
          ],
          "scattergeo": [
           {
            "marker": {
             "colorbar": {
              "outlinewidth": 0,
              "ticks": ""
             }
            },
            "type": "scattergeo"
           }
          ],
          "scattergl": [
           {
            "marker": {
             "colorbar": {
              "outlinewidth": 0,
              "ticks": ""
             }
            },
            "type": "scattergl"
           }
          ],
          "scattermapbox": [
           {
            "marker": {
             "colorbar": {
              "outlinewidth": 0,
              "ticks": ""
             }
            },
            "type": "scattermapbox"
           }
          ],
          "scatterpolar": [
           {
            "marker": {
             "colorbar": {
              "outlinewidth": 0,
              "ticks": ""
             }
            },
            "type": "scatterpolar"
           }
          ],
          "scatterpolargl": [
           {
            "marker": {
             "colorbar": {
              "outlinewidth": 0,
              "ticks": ""
             }
            },
            "type": "scatterpolargl"
           }
          ],
          "scatterternary": [
           {
            "marker": {
             "colorbar": {
              "outlinewidth": 0,
              "ticks": ""
             }
            },
            "type": "scatterternary"
           }
          ],
          "surface": [
           {
            "colorbar": {
             "outlinewidth": 0,
             "ticks": ""
            },
            "colorscale": [
             [
              0,
              "#0d0887"
             ],
             [
              0.1111111111111111,
              "#46039f"
             ],
             [
              0.2222222222222222,
              "#7201a8"
             ],
             [
              0.3333333333333333,
              "#9c179e"
             ],
             [
              0.4444444444444444,
              "#bd3786"
             ],
             [
              0.5555555555555556,
              "#d8576b"
             ],
             [
              0.6666666666666666,
              "#ed7953"
             ],
             [
              0.7777777777777778,
              "#fb9f3a"
             ],
             [
              0.8888888888888888,
              "#fdca26"
             ],
             [
              1,
              "#f0f921"
             ]
            ],
            "type": "surface"
           }
          ],
          "table": [
           {
            "cells": {
             "fill": {
              "color": "#EBF0F8"
             },
             "line": {
              "color": "white"
             }
            },
            "header": {
             "fill": {
              "color": "#C8D4E3"
             },
             "line": {
              "color": "white"
             }
            },
            "type": "table"
           }
          ]
         },
         "layout": {
          "annotationdefaults": {
           "arrowcolor": "#2a3f5f",
           "arrowhead": 0,
           "arrowwidth": 1
          },
          "autotypenumbers": "strict",
          "coloraxis": {
           "colorbar": {
            "outlinewidth": 0,
            "ticks": ""
           }
          },
          "colorscale": {
           "diverging": [
            [
             0,
             "#8e0152"
            ],
            [
             0.1,
             "#c51b7d"
            ],
            [
             0.2,
             "#de77ae"
            ],
            [
             0.3,
             "#f1b6da"
            ],
            [
             0.4,
             "#fde0ef"
            ],
            [
             0.5,
             "#f7f7f7"
            ],
            [
             0.6,
             "#e6f5d0"
            ],
            [
             0.7,
             "#b8e186"
            ],
            [
             0.8,
             "#7fbc41"
            ],
            [
             0.9,
             "#4d9221"
            ],
            [
             1,
             "#276419"
            ]
           ],
           "sequential": [
            [
             0,
             "#0d0887"
            ],
            [
             0.1111111111111111,
             "#46039f"
            ],
            [
             0.2222222222222222,
             "#7201a8"
            ],
            [
             0.3333333333333333,
             "#9c179e"
            ],
            [
             0.4444444444444444,
             "#bd3786"
            ],
            [
             0.5555555555555556,
             "#d8576b"
            ],
            [
             0.6666666666666666,
             "#ed7953"
            ],
            [
             0.7777777777777778,
             "#fb9f3a"
            ],
            [
             0.8888888888888888,
             "#fdca26"
            ],
            [
             1,
             "#f0f921"
            ]
           ],
           "sequentialminus": [
            [
             0,
             "#0d0887"
            ],
            [
             0.1111111111111111,
             "#46039f"
            ],
            [
             0.2222222222222222,
             "#7201a8"
            ],
            [
             0.3333333333333333,
             "#9c179e"
            ],
            [
             0.4444444444444444,
             "#bd3786"
            ],
            [
             0.5555555555555556,
             "#d8576b"
            ],
            [
             0.6666666666666666,
             "#ed7953"
            ],
            [
             0.7777777777777778,
             "#fb9f3a"
            ],
            [
             0.8888888888888888,
             "#fdca26"
            ],
            [
             1,
             "#f0f921"
            ]
           ]
          },
          "colorway": [
           "#636efa",
           "#EF553B",
           "#00cc96",
           "#ab63fa",
           "#FFA15A",
           "#19d3f3",
           "#FF6692",
           "#B6E880",
           "#FF97FF",
           "#FECB52"
          ],
          "font": {
           "color": "#2a3f5f"
          },
          "geo": {
           "bgcolor": "white",
           "lakecolor": "white",
           "landcolor": "#E5ECF6",
           "showlakes": true,
           "showland": true,
           "subunitcolor": "white"
          },
          "hoverlabel": {
           "align": "left"
          },
          "hovermode": "closest",
          "mapbox": {
           "style": "light"
          },
          "paper_bgcolor": "white",
          "plot_bgcolor": "#E5ECF6",
          "polar": {
           "angularaxis": {
            "gridcolor": "white",
            "linecolor": "white",
            "ticks": ""
           },
           "bgcolor": "#E5ECF6",
           "radialaxis": {
            "gridcolor": "white",
            "linecolor": "white",
            "ticks": ""
           }
          },
          "scene": {
           "xaxis": {
            "backgroundcolor": "#E5ECF6",
            "gridcolor": "white",
            "gridwidth": 2,
            "linecolor": "white",
            "showbackground": true,
            "ticks": "",
            "zerolinecolor": "white"
           },
           "yaxis": {
            "backgroundcolor": "#E5ECF6",
            "gridcolor": "white",
            "gridwidth": 2,
            "linecolor": "white",
            "showbackground": true,
            "ticks": "",
            "zerolinecolor": "white"
           },
           "zaxis": {
            "backgroundcolor": "#E5ECF6",
            "gridcolor": "white",
            "gridwidth": 2,
            "linecolor": "white",
            "showbackground": true,
            "ticks": "",
            "zerolinecolor": "white"
           }
          },
          "shapedefaults": {
           "line": {
            "color": "#2a3f5f"
           }
          },
          "ternary": {
           "aaxis": {
            "gridcolor": "white",
            "linecolor": "white",
            "ticks": ""
           },
           "baxis": {
            "gridcolor": "white",
            "linecolor": "white",
            "ticks": ""
           },
           "bgcolor": "#E5ECF6",
           "caxis": {
            "gridcolor": "white",
            "linecolor": "white",
            "ticks": ""
           }
          },
          "title": {
           "x": 0.05
          },
          "xaxis": {
           "automargin": true,
           "gridcolor": "white",
           "linecolor": "white",
           "ticks": "",
           "title": {
            "standoff": 15
           },
           "zerolinecolor": "white",
           "zerolinewidth": 2
          },
          "yaxis": {
           "automargin": true,
           "gridcolor": "white",
           "linecolor": "white",
           "ticks": "",
           "title": {
            "standoff": 15
           },
           "zerolinecolor": "white",
           "zerolinewidth": 2
          }
         }
        },
        "title": {
         "text": "Do you think that climate change is a very serious threat, a somewhat serious threat, or not a threat at all to the people in this country in the next 20 years?"
        },
        "updatemenus": [
         {
          "buttons": [
           {
            "args": [
             {
              "visible": [
               true,
               true,
               true,
               false,
               false,
               false,
               false,
               false,
               false,
               false,
               false,
               false,
               false,
               false,
               false,
               false,
               false,
               false
              ]
             }
            ],
            "label": "United Kingdom",
            "method": "update"
           },
           {
            "args": [
             {
              "visible": [
               false,
               false,
               false,
               true,
               true,
               true,
               false,
               false,
               false,
               false,
               false,
               false,
               false,
               false,
               false,
               false,
               false,
               false
              ]
             }
            ],
            "label": "Ireland",
            "method": "update"
           },
           {
            "args": [
             {
              "visible": [
               false,
               false,
               false,
               false,
               false,
               false,
               true,
               true,
               true,
               false,
               false,
               false,
               false,
               false,
               false,
               false,
               false,
               false
              ]
             }
            ],
            "label": "France",
            "method": "update"
           },
           {
            "args": [
             {
              "visible": [
               false,
               false,
               false,
               false,
               false,
               false,
               false,
               false,
               false,
               true,
               true,
               true,
               false,
               false,
               false,
               false,
               false,
               false
              ]
             }
            ],
            "label": "Germany",
            "method": "update"
           },
           {
            "args": [
             {
              "visible": [
               false,
               false,
               false,
               false,
               false,
               false,
               false,
               false,
               false,
               false,
               false,
               false,
               true,
               true,
               true,
               false,
               false,
               false
              ]
             }
            ],
            "label": "Spain",
            "method": "update"
           },
           {
            "args": [
             {
              "visible": [
               false,
               false,
               false,
               false,
               false,
               false,
               false,
               false,
               false,
               false,
               false,
               false,
               false,
               false,
               false,
               true,
               true,
               true
              ]
             }
            ],
            "label": "Netherlands",
            "method": "update"
           }
          ],
          "direction": "down",
          "type": "dropdown",
          "x": 1,
          "y": 1
         }
        ]
       }
      }
     },
     "metadata": {},
     "output_type": "display_data"
    }
   ],
   "source": [
    "import plotly.graph_objects as go\n",
    "\n",
    "countries = [\"United Kingdom\", \"Ireland\", \"France\", \"Germany\", \"Spain\", \"Netherlands\"]\n",
    "\n",
    "fig = go.Figure()\n",
    "buttons = []\n",
    "i = 0\n",
    "\n",
    "for country in countries:\n",
    "    current = l5.loc[country]\n",
    "    current = current.rename({1: \"Very serious threat\", 2: \"Somewhat serious threat\", 3: \"Not a threat at all\"}, axis=1)\n",
    "\n",
    "    for col in current:\n",
    "        fig.add_trace(\n",
    "            go.Bar(\n",
    "                x=current.index.to_list(),\n",
    "                y=current[col].to_list(),\n",
    "                name=col,\n",
    "                visible=(i == 0)\n",
    "            )\n",
    "        )\n",
    "\n",
    "    args = [False] * len(countries) * len(current.columns)\n",
    "    args[i*len(current.columns):(i*len(current.columns))+len(current.columns)] = [True] * len(current.columns)\n",
    "    \n",
    "    button = dict(label = country,\n",
    "                  method = \"update\",\n",
    "                  args=[{\"visible\": args}])\n",
    "    \n",
    "    buttons.append(button)\n",
    "    \n",
    "    i += 1\n",
    "\n",
    "fig.update_layout(\n",
    "    updatemenus=[\n",
    "        dict(\n",
    "            type=\"dropdown\",\n",
    "            direction=\"down\",\n",
    "            x=1,\n",
    "            y=1,\n",
    "            buttons=buttons\n",
    "        )\n",
    "    ],\n",
    "    barmode=\"stack\"\n",
    ")\n",
    "\n",
    "# Set title\n",
    "fig.update_layout(title_text=relevant_keys.get(\"L5\"))\n",
    "\n",
    "fig.show()"
   ]
  },
  {
   "cell_type": "code",
   "execution_count": 322,
   "metadata": {},
   "outputs": [],
   "source": [
    "l5_total = l5.copy()\n",
    "l5_total = l5_total.groupby(\"Country\").sum()\n",
    "l5_total[\"total\"] = l5_total[1]/l5_total.sum(axis=1)"
   ]
  },
  {
   "cell_type": "code",
   "execution_count": 384,
   "metadata": {},
   "outputs": [],
   "source": [
    "import pycountry\n",
    "\n",
    "input_countries = l5_total.index.to_list()\n",
    "countries = {country.name : country.alpha_2 for country in pycountry.countries}\n",
    "codes = [countries.get(country) for country in input_countries]"
   ]
  }
 ],
 "metadata": {
  "kernelspec": {
   "display_name": "Python 3.11.0 ('hackathon')",
   "language": "python",
   "name": "python3"
  },
  "language_info": {
   "codemirror_mode": {
    "name": "ipython",
    "version": 3
   },
   "file_extension": ".py",
   "mimetype": "text/x-python",
   "name": "python",
   "nbconvert_exporter": "python",
   "pygments_lexer": "ipython3",
   "version": "3.11.0"
  },
  "orig_nbformat": 4,
  "vscode": {
   "interpreter": {
    "hash": "c666f72e0ed4b2d01b311a9d5cce1e5886b0d87fa2be505f6368ffd20032df9d"
   }
  }
 },
 "nbformat": 4,
 "nbformat_minor": 2
}
