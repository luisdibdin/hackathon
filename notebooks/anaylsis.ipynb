{
 "cells": [
  {
   "cell_type": "code",
   "execution_count": 2,
   "metadata": {},
   "outputs": [],
   "source": [
    "import pandas as pd\n",
    "import plotly.express as px"
   ]
  },
  {
   "cell_type": "code",
   "execution_count": 3,
   "metadata": {},
   "outputs": [],
   "source": [
    "df = pd.read_csv(\"../data_raw/lrf_public_file_review.tab\", sep=\"\\t\", engine=\"python\")"
   ]
  },
  {
   "cell_type": "code",
   "execution_count": 5,
   "metadata": {},
   "outputs": [],
   "source": [
    "relevant_keys = {\n",
    "    \"L3_A\": \"In your own words, what is the greatest source of RISK TO YOUR SAFETY in your daily life?\",\n",
    "    \"L3_B\": \"Other than what you just mentioned in your own words what is another MAJOR source of RISK TO YOUR SAFETY in your daily life?\",\n",
    "    \"L5\": \"Do you think that climate change is a very serious threat, a somewhat serious threat, or not a threat at all to the people in this country in the next 20 years?\"\n",
    "}"
   ]
  },
  {
   "cell_type": "code",
   "execution_count": 6,
   "metadata": {},
   "outputs": [],
   "source": [
    "survey_columns = df.columns[df.columns.str.startswith(\"L\")].to_list()\n",
    "drop_columns = [item for item in survey_columns if item not in list(relevant_keys.keys())]\n",
    "df_relevant = df.drop(drop_columns, axis=1)"
   ]
  },
  {
   "cell_type": "code",
   "execution_count": 7,
   "metadata": {},
   "outputs": [],
   "source": [
    "bins = [15, 18, 31, 65, 100]\n",
    "labels = [\"15 to 17\", \"18 to 30\", \"31 to 64\", \"65+\"]\n",
    "\n",
    "df_relevant[\"AgeGroup\"] = pd.cut(df_relevant[\"Age\"], bins=bins, labels=labels, right=False)"
   ]
  },
  {
   "cell_type": "code",
   "execution_count": 375,
   "metadata": {},
   "outputs": [],
   "source": [
    "l3_a = df_relevant.pivot_table(index=[\"Country\", \"AgeGroup\"], columns=\"L3_A\", values=\"projection_weight\", aggfunc='sum').astype(int)\n",
    "l3_a = l3_a.rename_axis(None, axis=1)\n",
    "l3_a.columns = l3_a.columns.astype(str)\n",
    "\n",
    "l3_b = df_relevant.pivot_table(index=[\"Country\", \"AgeGroup\"], columns=\"L3_B\", values=\"projection_weight\", aggfunc='sum').astype(int)\n",
    "l3_b = l3_b.rename({\" \": \"99\"}, axis=1)\n",
    "l3_b = l3_b.rename_axis(None, axis=1)\n",
    "\n",
    "l3 = l3_a + l3_a\n",
    "\n",
    "l5 = df_relevant.pivot_table(index=[\"Country\", \"AgeGroup\"], columns=\"L5\", values=\"projection_weight\", aggfunc='sum').astype(int)\n",
    "l5 = l5.drop([98, 99], axis=1)"
   ]
  },
  {
   "cell_type": "code",
   "execution_count": 385,
   "metadata": {},
   "outputs": [
    {
     "data": {
      "application/vnd.plotly.v1+json": {
       "config": {
        "plotlyServerURL": "https://plot.ly"
       },
       "data": [
        {
         "name": "Very serious threat",
         "type": "bar",
         "visible": true,
         "x": [
          "15 to 17",
          "18 to 30",
          "31 to 64",
          "65+"
         ],
         "y": [
          874226,
          7084469,
          22010762,
          7769387
         ]
        },
        {
         "name": "Somewhat serious threat",
         "type": "bar",
         "visible": true,
         "x": [
          "15 to 17",
          "18 to 30",
          "31 to 64",
          "65+"
         ],
         "y": [
          203909,
          2057867,
          5815829,
          1968022
         ]
        },
        {
         "name": "Not a threat at all",
         "type": "bar",
         "visible": true,
         "x": [
          "15 to 17",
          "18 to 30",
          "31 to 64",
          "65+"
         ],
         "y": [
          92113,
          930925,
          1657097,
          1197165
         ]
        },
        {
         "name": "Very serious threat",
         "type": "bar",
         "visible": false,
         "x": [
          "15 to 17",
          "18 to 30",
          "31 to 64",
          "65+"
         ],
         "y": [
          26159,
          496029,
          1421893,
          376116
         ]
        },
        {
         "name": "Somewhat serious threat",
         "type": "bar",
         "visible": false,
         "x": [
          "15 to 17",
          "18 to 30",
          "31 to 64",
          "65+"
         ],
         "y": [
          3375,
          183624,
          523771,
          126171
         ]
        },
        {
         "name": "Not a threat at all",
         "type": "bar",
         "visible": false,
         "x": [
          "15 to 17",
          "18 to 30",
          "31 to 64",
          "65+"
         ],
         "y": [
          19389,
          119229,
          195481,
          19659
         ]
        },
        {
         "name": "Very serious threat",
         "type": "bar",
         "visible": false,
         "x": [
          "15 to 17",
          "18 to 30",
          "31 to 64",
          "65+"
         ],
         "y": [
          426197,
          6446809,
          18268033,
          6619973
         ]
        },
        {
         "name": "Somewhat serious threat",
         "type": "bar",
         "visible": false,
         "x": [
          "15 to 17",
          "18 to 30",
          "31 to 64",
          "65+"
         ],
         "y": [
          0,
          3924769,
          10029854,
          5249897
         ]
        },
        {
         "name": "Not a threat at all",
         "type": "bar",
         "visible": false,
         "x": [
          "15 to 17",
          "18 to 30",
          "31 to 64",
          "65+"
         ],
         "y": [
          0,
          373828,
          1184565,
          581939
         ]
        },
        {
         "name": "Very serious threat",
         "type": "bar",
         "visible": false,
         "x": [
          "15 to 17",
          "18 to 30",
          "31 to 64",
          "65+"
         ],
         "y": [
          0,
          8517941,
          20976851,
          9679500
         ]
        },
        {
         "name": "Somewhat serious threat",
         "type": "bar",
         "visible": false,
         "x": [
          "15 to 17",
          "18 to 30",
          "31 to 64",
          "65+"
         ],
         "y": [
          0,
          2467661,
          14942641,
          6805944
         ]
        },
        {
         "name": "Not a threat at all",
         "type": "bar",
         "visible": false,
         "x": [
          "15 to 17",
          "18 to 30",
          "31 to 64",
          "65+"
         ],
         "y": [
          0,
          1048044,
          2802210,
          940355
         ]
        },
        {
         "name": "Very serious threat",
         "type": "bar",
         "visible": false,
         "x": [
          "15 to 17",
          "18 to 30",
          "31 to 64",
          "65+"
         ],
         "y": [
          527288,
          6575374,
          20688690,
          5899425
         ]
        },
        {
         "name": "Somewhat serious threat",
         "type": "bar",
         "visible": false,
         "x": [
          "15 to 17",
          "18 to 30",
          "31 to 64",
          "65+"
         ],
         "y": [
          127039,
          1224419,
          1770258,
          832017
         ]
        },
        {
         "name": "Not a threat at all",
         "type": "bar",
         "visible": false,
         "x": [
          "15 to 17",
          "18 to 30",
          "31 to 64",
          "65+"
         ],
         "y": [
          0,
          259348,
          811895,
          90637
         ]
        },
        {
         "name": "Very serious threat",
         "type": "bar",
         "visible": false,
         "x": [
          "15 to 17",
          "18 to 30",
          "31 to 64",
          "65+"
         ],
         "y": [
          77421,
          1253344,
          3494742,
          982520
         ]
        },
        {
         "name": "Somewhat serious threat",
         "type": "bar",
         "visible": false,
         "x": [
          "15 to 17",
          "18 to 30",
          "31 to 64",
          "65+"
         ],
         "y": [
          437437,
          865014,
          3118465,
          1672319
         ]
        },
        {
         "name": "Not a threat at all",
         "type": "bar",
         "visible": false,
         "x": [
          "15 to 17",
          "18 to 30",
          "31 to 64",
          "65+"
         ],
         "y": [
          0,
          344198,
          928312,
          388397
         ]
        }
       ],
       "layout": {
        "barmode": "stack",
        "template": {
         "data": {
          "bar": [
           {
            "error_x": {
             "color": "#2a3f5f"
            },
            "error_y": {
             "color": "#2a3f5f"
            },
            "marker": {
             "line": {
              "color": "#E5ECF6",
              "width": 0.5
             },
             "pattern": {
              "fillmode": "overlay",
              "size": 10,
              "solidity": 0.2
             }
            },
            "type": "bar"
           }
          ],
          "barpolar": [
           {
            "marker": {
             "line": {
              "color": "#E5ECF6",
              "width": 0.5
             },
             "pattern": {
              "fillmode": "overlay",
              "size": 10,
              "solidity": 0.2
             }
            },
            "type": "barpolar"
           }
          ],
          "carpet": [
           {
            "aaxis": {
             "endlinecolor": "#2a3f5f",
             "gridcolor": "white",
             "linecolor": "white",
             "minorgridcolor": "white",
             "startlinecolor": "#2a3f5f"
            },
            "baxis": {
             "endlinecolor": "#2a3f5f",
             "gridcolor": "white",
             "linecolor": "white",
             "minorgridcolor": "white",
             "startlinecolor": "#2a3f5f"
            },
            "type": "carpet"
           }
          ],
          "choropleth": [
           {
            "colorbar": {
             "outlinewidth": 0,
             "ticks": ""
            },
            "type": "choropleth"
           }
          ],
          "contour": [
           {
            "colorbar": {
             "outlinewidth": 0,
             "ticks": ""
            },
            "colorscale": [
             [
              0,
              "#0d0887"
             ],
             [
              0.1111111111111111,
              "#46039f"
             ],
             [
              0.2222222222222222,
              "#7201a8"
             ],
             [
              0.3333333333333333,
              "#9c179e"
             ],
             [
              0.4444444444444444,
              "#bd3786"
             ],
             [
              0.5555555555555556,
              "#d8576b"
             ],
             [
              0.6666666666666666,
              "#ed7953"
             ],
             [
              0.7777777777777778,
              "#fb9f3a"
             ],
             [
              0.8888888888888888,
              "#fdca26"
             ],
             [
              1,
              "#f0f921"
             ]
            ],
            "type": "contour"
           }
          ],
          "contourcarpet": [
           {
            "colorbar": {
             "outlinewidth": 0,
             "ticks": ""
            },
            "type": "contourcarpet"
           }
          ],
          "heatmap": [
           {
            "colorbar": {
             "outlinewidth": 0,
             "ticks": ""
            },
            "colorscale": [
             [
              0,
              "#0d0887"
             ],
             [
              0.1111111111111111,
              "#46039f"
             ],
             [
              0.2222222222222222,
              "#7201a8"
             ],
             [
              0.3333333333333333,
              "#9c179e"
             ],
             [
              0.4444444444444444,
              "#bd3786"
             ],
             [
              0.5555555555555556,
              "#d8576b"
             ],
             [
              0.6666666666666666,
              "#ed7953"
             ],
             [
              0.7777777777777778,
              "#fb9f3a"
             ],
             [
              0.8888888888888888,
              "#fdca26"
             ],
             [
              1,
              "#f0f921"
             ]
            ],
            "type": "heatmap"
           }
          ],
          "heatmapgl": [
           {
            "colorbar": {
             "outlinewidth": 0,
             "ticks": ""
            },
            "colorscale": [
             [
              0,
              "#0d0887"
             ],
             [
              0.1111111111111111,
              "#46039f"
             ],
             [
              0.2222222222222222,
              "#7201a8"
             ],
             [
              0.3333333333333333,
              "#9c179e"
             ],
             [
              0.4444444444444444,
              "#bd3786"
             ],
             [
              0.5555555555555556,
              "#d8576b"
             ],
             [
              0.6666666666666666,
              "#ed7953"
             ],
             [
              0.7777777777777778,
              "#fb9f3a"
             ],
             [
              0.8888888888888888,
              "#fdca26"
             ],
             [
              1,
              "#f0f921"
             ]
            ],
            "type": "heatmapgl"
           }
          ],
          "histogram": [
           {
            "marker": {
             "pattern": {
              "fillmode": "overlay",
              "size": 10,
              "solidity": 0.2
             }
            },
            "type": "histogram"
           }
          ],
          "histogram2d": [
           {
            "colorbar": {
             "outlinewidth": 0,
             "ticks": ""
            },
            "colorscale": [
             [
              0,
              "#0d0887"
             ],
             [
              0.1111111111111111,
              "#46039f"
             ],
             [
              0.2222222222222222,
              "#7201a8"
             ],
             [
              0.3333333333333333,
              "#9c179e"
             ],
             [
              0.4444444444444444,
              "#bd3786"
             ],
             [
              0.5555555555555556,
              "#d8576b"
             ],
             [
              0.6666666666666666,
              "#ed7953"
             ],
             [
              0.7777777777777778,
              "#fb9f3a"
             ],
             [
              0.8888888888888888,
              "#fdca26"
             ],
             [
              1,
              "#f0f921"
             ]
            ],
            "type": "histogram2d"
           }
          ],
          "histogram2dcontour": [
           {
            "colorbar": {
             "outlinewidth": 0,
             "ticks": ""
            },
            "colorscale": [
             [
              0,
              "#0d0887"
             ],
             [
              0.1111111111111111,
              "#46039f"
             ],
             [
              0.2222222222222222,
              "#7201a8"
             ],
             [
              0.3333333333333333,
              "#9c179e"
             ],
             [
              0.4444444444444444,
              "#bd3786"
             ],
             [
              0.5555555555555556,
              "#d8576b"
             ],
             [
              0.6666666666666666,
              "#ed7953"
             ],
             [
              0.7777777777777778,
              "#fb9f3a"
             ],
             [
              0.8888888888888888,
              "#fdca26"
             ],
             [
              1,
              "#f0f921"
             ]
            ],
            "type": "histogram2dcontour"
           }
          ],
          "mesh3d": [
           {
            "colorbar": {
             "outlinewidth": 0,
             "ticks": ""
            },
            "type": "mesh3d"
           }
          ],
          "parcoords": [
           {
            "line": {
             "colorbar": {
              "outlinewidth": 0,
              "ticks": ""
             }
            },
            "type": "parcoords"
           }
          ],
          "pie": [
           {
            "automargin": true,
            "type": "pie"
           }
          ],
          "scatter": [
           {
            "fillpattern": {
             "fillmode": "overlay",
             "size": 10,
             "solidity": 0.2
            },
            "type": "scatter"
           }
          ],
          "scatter3d": [
           {
            "line": {
             "colorbar": {
              "outlinewidth": 0,
              "ticks": ""
             }
            },
            "marker": {
             "colorbar": {
              "outlinewidth": 0,
              "ticks": ""
             }
            },
            "type": "scatter3d"
           }
          ],
          "scattercarpet": [
           {
            "marker": {
             "colorbar": {
              "outlinewidth": 0,
              "ticks": ""
             }
            },
            "type": "scattercarpet"
           }
          ],
          "scattergeo": [
           {
            "marker": {
             "colorbar": {
              "outlinewidth": 0,
              "ticks": ""
             }
            },
            "type": "scattergeo"
           }
          ],
          "scattergl": [
           {
            "marker": {
             "colorbar": {
              "outlinewidth": 0,
              "ticks": ""
             }
            },
            "type": "scattergl"
           }
          ],
          "scattermapbox": [
           {
            "marker": {
             "colorbar": {
              "outlinewidth": 0,
              "ticks": ""
             }
            },
            "type": "scattermapbox"
           }
          ],
          "scatterpolar": [
           {
            "marker": {
             "colorbar": {
              "outlinewidth": 0,
              "ticks": ""
             }
            },
            "type": "scatterpolar"
           }
          ],
          "scatterpolargl": [
           {
            "marker": {
             "colorbar": {
              "outlinewidth": 0,
              "ticks": ""
             }
            },
            "type": "scatterpolargl"
           }
          ],
          "scatterternary": [
           {
            "marker": {
             "colorbar": {
              "outlinewidth": 0,
              "ticks": ""
             }
            },
            "type": "scatterternary"
           }
          ],
          "surface": [
           {
            "colorbar": {
             "outlinewidth": 0,
             "ticks": ""
            },
            "colorscale": [
             [
              0,
              "#0d0887"
             ],
             [
              0.1111111111111111,
              "#46039f"
             ],
             [
              0.2222222222222222,
              "#7201a8"
             ],
             [
              0.3333333333333333,
              "#9c179e"
             ],
             [
              0.4444444444444444,
              "#bd3786"
             ],
             [
              0.5555555555555556,
              "#d8576b"
             ],
             [
              0.6666666666666666,
              "#ed7953"
             ],
             [
              0.7777777777777778,
              "#fb9f3a"
             ],
             [
              0.8888888888888888,
              "#fdca26"
             ],
             [
              1,
              "#f0f921"
             ]
            ],
            "type": "surface"
           }
          ],
          "table": [
           {
            "cells": {
             "fill": {
              "color": "#EBF0F8"
             },
             "line": {
              "color": "white"
             }
            },
            "header": {
             "fill": {
              "color": "#C8D4E3"
             },
             "line": {
              "color": "white"
             }
            },
            "type": "table"
           }
          ]
         },
         "layout": {
          "annotationdefaults": {
           "arrowcolor": "#2a3f5f",
           "arrowhead": 0,
           "arrowwidth": 1
          },
          "autotypenumbers": "strict",
          "coloraxis": {
           "colorbar": {
            "outlinewidth": 0,
            "ticks": ""
           }
          },
          "colorscale": {
           "diverging": [
            [
             0,
             "#8e0152"
            ],
            [
             0.1,
             "#c51b7d"
            ],
            [
             0.2,
             "#de77ae"
            ],
            [
             0.3,
             "#f1b6da"
            ],
            [
             0.4,
             "#fde0ef"
            ],
            [
             0.5,
             "#f7f7f7"
            ],
            [
             0.6,
             "#e6f5d0"
            ],
            [
             0.7,
             "#b8e186"
            ],
            [
             0.8,
             "#7fbc41"
            ],
            [
             0.9,
             "#4d9221"
            ],
            [
             1,
             "#276419"
            ]
           ],
           "sequential": [
            [
             0,
             "#0d0887"
            ],
            [
             0.1111111111111111,
             "#46039f"
            ],
            [
             0.2222222222222222,
             "#7201a8"
            ],
            [
             0.3333333333333333,
             "#9c179e"
            ],
            [
             0.4444444444444444,
             "#bd3786"
            ],
            [
             0.5555555555555556,
             "#d8576b"
            ],
            [
             0.6666666666666666,
             "#ed7953"
            ],
            [
             0.7777777777777778,
             "#fb9f3a"
            ],
            [
             0.8888888888888888,
             "#fdca26"
            ],
            [
             1,
             "#f0f921"
            ]
           ],
           "sequentialminus": [
            [
             0,
             "#0d0887"
            ],
            [
             0.1111111111111111,
             "#46039f"
            ],
            [
             0.2222222222222222,
             "#7201a8"
            ],
            [
             0.3333333333333333,
             "#9c179e"
            ],
            [
             0.4444444444444444,
             "#bd3786"
            ],
            [
             0.5555555555555556,
             "#d8576b"
            ],
            [
             0.6666666666666666,
             "#ed7953"
            ],
            [
             0.7777777777777778,
             "#fb9f3a"
            ],
            [
             0.8888888888888888,
             "#fdca26"
            ],
            [
             1,
             "#f0f921"
            ]
           ]
          },
          "colorway": [
           "#636efa",
           "#EF553B",
           "#00cc96",
           "#ab63fa",
           "#FFA15A",
           "#19d3f3",
           "#FF6692",
           "#B6E880",
           "#FF97FF",
           "#FECB52"
          ],
          "font": {
           "color": "#2a3f5f"
          },
          "geo": {
           "bgcolor": "white",
           "lakecolor": "white",
           "landcolor": "#E5ECF6",
           "showlakes": true,
           "showland": true,
           "subunitcolor": "white"
          },
          "hoverlabel": {
           "align": "left"
          },
          "hovermode": "closest",
          "mapbox": {
           "style": "light"
          },
          "paper_bgcolor": "white",
          "plot_bgcolor": "#E5ECF6",
          "polar": {
           "angularaxis": {
            "gridcolor": "white",
            "linecolor": "white",
            "ticks": ""
           },
           "bgcolor": "#E5ECF6",
           "radialaxis": {
            "gridcolor": "white",
            "linecolor": "white",
            "ticks": ""
           }
          },
          "scene": {
           "xaxis": {
            "backgroundcolor": "#E5ECF6",
            "gridcolor": "white",
            "gridwidth": 2,
            "linecolor": "white",
            "showbackground": true,
            "ticks": "",
            "zerolinecolor": "white"
           },
           "yaxis": {
            "backgroundcolor": "#E5ECF6",
            "gridcolor": "white",
            "gridwidth": 2,
            "linecolor": "white",
            "showbackground": true,
            "ticks": "",
            "zerolinecolor": "white"
           },
           "zaxis": {
            "backgroundcolor": "#E5ECF6",
            "gridcolor": "white",
            "gridwidth": 2,
            "linecolor": "white",
            "showbackground": true,
            "ticks": "",
            "zerolinecolor": "white"
           }
          },
          "shapedefaults": {
           "line": {
            "color": "#2a3f5f"
           }
          },
          "ternary": {
           "aaxis": {
            "gridcolor": "white",
            "linecolor": "white",
            "ticks": ""
           },
           "baxis": {
            "gridcolor": "white",
            "linecolor": "white",
            "ticks": ""
           },
           "bgcolor": "#E5ECF6",
           "caxis": {
            "gridcolor": "white",
            "linecolor": "white",
            "ticks": ""
           }
          },
          "title": {
           "x": 0.05
          },
          "xaxis": {
           "automargin": true,
           "gridcolor": "white",
           "linecolor": "white",
           "ticks": "",
           "title": {
            "standoff": 15
           },
           "zerolinecolor": "white",
           "zerolinewidth": 2
          },
          "yaxis": {
           "automargin": true,
           "gridcolor": "white",
           "linecolor": "white",
           "ticks": "",
           "title": {
            "standoff": 15
           },
           "zerolinecolor": "white",
           "zerolinewidth": 2
          }
         }
        },
        "title": {
         "text": "Do you think that climate change is a very serious threat, a somewhat serious threat, or not a threat at all to the people in this country in the next 20 years?"
        },
        "updatemenus": [
         {
          "buttons": [
           {
            "args": [
             {
              "visible": [
               true,
               true,
               true,
               false,
               false,
               false,
               false,
               false,
               false,
               false,
               false,
               false,
               false,
               false,
               false,
               false,
               false,
               false
              ]
             }
            ],
            "label": "United Kingdom",
            "method": "update"
           },
           {
            "args": [
             {
              "visible": [
               false,
               false,
               false,
               true,
               true,
               true,
               false,
               false,
               false,
               false,
               false,
               false,
               false,
               false,
               false,
               false,
               false,
               false
              ]
             }
            ],
            "label": "Ireland",
            "method": "update"
           },
           {
            "args": [
             {
              "visible": [
               false,
               false,
               false,
               false,
               false,
               false,
               true,
               true,
               true,
               false,
               false,
               false,
               false,
               false,
               false,
               false,
               false,
               false
              ]
             }
            ],
            "label": "France",
            "method": "update"
           },
           {
            "args": [
             {
              "visible": [
               false,
               false,
               false,
               false,
               false,
               false,
               false,
               false,
               false,
               true,
               true,
               true,
               false,
               false,
               false,
               false,
               false,
               false
              ]
             }
            ],
            "label": "Germany",
            "method": "update"
           },
           {
            "args": [
             {
              "visible": [
               false,
               false,
               false,
               false,
               false,
               false,
               false,
               false,
               false,
               false,
               false,
               false,
               true,
               true,
               true,
               false,
               false,
               false
              ]
             }
            ],
            "label": "Spain",
            "method": "update"
           },
           {
            "args": [
             {
              "visible": [
               false,
               false,
               false,
               false,
               false,
               false,
               false,
               false,
               false,
               false,
               false,
               false,
               false,
               false,
               false,
               true,
               true,
               true
              ]
             }
            ],
            "label": "Netherlands",
            "method": "update"
           }
          ],
          "direction": "down",
          "type": "dropdown",
          "x": 1,
          "y": 1
         }
        ]
       }
      }
     },
     "metadata": {},
     "output_type": "display_data"
    }
   ],
   "source": [
    "import plotly.graph_objects as go\n",
    "\n",
    "countries = [\"United Kingdom\", \"Ireland\", \"France\", \"Germany\", \"Spain\", \"Netherlands\"]\n",
    "\n",
    "fig = go.Figure()\n",
    "buttons = []\n",
    "i = 0\n",
    "\n",
    "for country in countries:\n",
    "    current = l5.loc[country]\n",
    "    current = current.rename({1: \"Very serious threat\", 2: \"Somewhat serious threat\", 3: \"Not a threat at all\"}, axis=1)\n",
    "\n",
    "    for col in current:\n",
    "        fig.add_trace(\n",
    "            go.Bar(\n",
    "                x=current.index.to_list(),\n",
    "                y=current[col].to_list(),\n",
    "                name=col,\n",
    "                visible=(i == 0)\n",
    "            )\n",
    "        )\n",
    "\n",
    "    args = [False] * len(countries) * len(current.columns)\n",
    "    args[i*len(current.columns):(i*len(current.columns))+len(current.columns)] = [True] * len(current.columns)\n",
    "    \n",
    "    button = dict(label = country,\n",
    "                  method = \"update\",\n",
    "                  args=[{\"visible\": args}])\n",
    "    \n",
    "    buttons.append(button)\n",
    "    \n",
    "    i += 1\n",
    "\n",
    "fig.update_layout(\n",
    "    updatemenus=[\n",
    "        dict(\n",
    "            type=\"dropdown\",\n",
    "            direction=\"down\",\n",
    "            x=1,\n",
    "            y=1,\n",
    "            buttons=buttons\n",
    "        )\n",
    "    ],\n",
    "    barmode=\"stack\"\n",
    ")\n",
    "\n",
    "# Set title\n",
    "fig.update_layout(title_text=relevant_keys.get(\"L5\"))\n",
    "\n",
    "fig.show()"
   ]
  },
  {
   "cell_type": "code",
   "execution_count": 322,
   "metadata": {},
   "outputs": [],
   "source": [
    "l5_total = l5.copy()\n",
    "l5_total = l5_total.groupby(\"Country\").sum()\n",
    "l5_total[\"total\"] = l5_total[1]/l5_total.sum(axis=1)"
   ]
  },
  {
   "cell_type": "code",
   "execution_count": 384,
   "metadata": {},
   "outputs": [],
   "source": [
    "import pycountry\n",
    "\n",
    "input_countries = l5_total.index.to_list()\n",
    "countries = {country.name : country.alpha_2 for country in pycountry.countries}\n",
    "codes = [countries.get(country) for country in input_countries]"
   ]
  },
  {
   "cell_type": "code",
   "execution_count": 8,
   "metadata": {},
   "outputs": [
    {
     "data": {
      "text/html": [
       "<div>\n",
       "<style scoped>\n",
       "    .dataframe tbody tr th:only-of-type {\n",
       "        vertical-align: middle;\n",
       "    }\n",
       "\n",
       "    .dataframe tbody tr th {\n",
       "        vertical-align: top;\n",
       "    }\n",
       "\n",
       "    .dataframe thead th {\n",
       "        text-align: right;\n",
       "    }\n",
       "</style>\n",
       "<table border=\"1\" class=\"dataframe\">\n",
       "  <thead>\n",
       "    <tr style=\"text-align: right;\">\n",
       "      <th></th>\n",
       "      <th>WPID_RANDOM</th>\n",
       "      <th>Country</th>\n",
       "      <th>Year</th>\n",
       "      <th>GlobalRegion</th>\n",
       "      <th>CountryIncomeLevel</th>\n",
       "      <th>WGT</th>\n",
       "      <th>projection_weight</th>\n",
       "      <th>Age</th>\n",
       "      <th>Gender</th>\n",
       "      <th>Education</th>\n",
       "      <th>IncomeFeelings</th>\n",
       "      <th>INCOME_5</th>\n",
       "      <th>Urbanicity</th>\n",
       "      <th>HouseholdSize</th>\n",
       "      <th>ChildrenInHousehold</th>\n",
       "      <th>L3_A</th>\n",
       "      <th>L3_B</th>\n",
       "      <th>L5</th>\n",
       "      <th>AgeGroup</th>\n",
       "    </tr>\n",
       "  </thead>\n",
       "  <tbody>\n",
       "    <tr>\n",
       "      <th>0</th>\n",
       "      <td>111111576</td>\n",
       "      <td>Palestine</td>\n",
       "      <td>2019</td>\n",
       "      <td>11</td>\n",
       "      <td>2</td>\n",
       "      <td>0.841987</td>\n",
       "      <td>2079.386798</td>\n",
       "      <td>58</td>\n",
       "      <td>2</td>\n",
       "      <td>2</td>\n",
       "      <td>3</td>\n",
       "      <td>4</td>\n",
       "      <td>2</td>\n",
       "      <td>3</td>\n",
       "      <td>0</td>\n",
       "      <td>18</td>\n",
       "      <td>1</td>\n",
       "      <td>3</td>\n",
       "      <td>31 to 64</td>\n",
       "    </tr>\n",
       "    <tr>\n",
       "      <th>1</th>\n",
       "      <td>111111666</td>\n",
       "      <td>Botswana</td>\n",
       "      <td>2019</td>\n",
       "      <td>4</td>\n",
       "      <td>3</td>\n",
       "      <td>0.938971</td>\n",
       "      <td>1274.932764</td>\n",
       "      <td>25</td>\n",
       "      <td>2</td>\n",
       "      <td>2</td>\n",
       "      <td>5</td>\n",
       "      <td>2</td>\n",
       "      <td>2</td>\n",
       "      <td>2</td>\n",
       "      <td>2</td>\n",
       "      <td>1</td>\n",
       "      <td>98</td>\n",
       "      <td>98</td>\n",
       "      <td>18 to 30</td>\n",
       "    </tr>\n",
       "    <tr>\n",
       "      <th>2</th>\n",
       "      <td>111111887</td>\n",
       "      <td>Tajikistan</td>\n",
       "      <td>2019</td>\n",
       "      <td>7</td>\n",
       "      <td>1</td>\n",
       "      <td>0.619578</td>\n",
       "      <td>3298.585616</td>\n",
       "      <td>36</td>\n",
       "      <td>1</td>\n",
       "      <td>3</td>\n",
       "      <td>4</td>\n",
       "      <td>5</td>\n",
       "      <td>2</td>\n",
       "      <td>3</td>\n",
       "      <td>3</td>\n",
       "      <td>5</td>\n",
       "      <td>9</td>\n",
       "      <td>1</td>\n",
       "      <td>31 to 64</td>\n",
       "    </tr>\n",
       "    <tr>\n",
       "      <th>3</th>\n",
       "      <td>111114902</td>\n",
       "      <td>United Kingdom</td>\n",
       "      <td>2019</td>\n",
       "      <td>13</td>\n",
       "      <td>4</td>\n",
       "      <td>0.420952</td>\n",
       "      <td>22882.524653</td>\n",
       "      <td>45</td>\n",
       "      <td>2</td>\n",
       "      <td>3</td>\n",
       "      <td>1</td>\n",
       "      <td>3</td>\n",
       "      <td>1</td>\n",
       "      <td>2</td>\n",
       "      <td>1</td>\n",
       "      <td>1</td>\n",
       "      <td>18</td>\n",
       "      <td>2</td>\n",
       "      <td>31 to 64</td>\n",
       "    </tr>\n",
       "    <tr>\n",
       "      <th>4</th>\n",
       "      <td>111115212</td>\n",
       "      <td>Taiwan</td>\n",
       "      <td>2019</td>\n",
       "      <td>8</td>\n",
       "      <td>4</td>\n",
       "      <td>0.601208</td>\n",
       "      <td>12349.242676</td>\n",
       "      <td>29</td>\n",
       "      <td>2</td>\n",
       "      <td>3</td>\n",
       "      <td>2</td>\n",
       "      <td>5</td>\n",
       "      <td>2</td>\n",
       "      <td>1</td>\n",
       "      <td>0</td>\n",
       "      <td>7</td>\n",
       "      <td>3</td>\n",
       "      <td>1</td>\n",
       "      <td>18 to 30</td>\n",
       "    </tr>\n",
       "    <tr>\n",
       "      <th>...</th>\n",
       "      <td>...</td>\n",
       "      <td>...</td>\n",
       "      <td>...</td>\n",
       "      <td>...</td>\n",
       "      <td>...</td>\n",
       "      <td>...</td>\n",
       "      <td>...</td>\n",
       "      <td>...</td>\n",
       "      <td>...</td>\n",
       "      <td>...</td>\n",
       "      <td>...</td>\n",
       "      <td>...</td>\n",
       "      <td>...</td>\n",
       "      <td>...</td>\n",
       "      <td>...</td>\n",
       "      <td>...</td>\n",
       "      <td>...</td>\n",
       "      <td>...</td>\n",
       "      <td>...</td>\n",
       "    </tr>\n",
       "    <tr>\n",
       "      <th>154190</th>\n",
       "      <td>211108235</td>\n",
       "      <td>Brazil</td>\n",
       "      <td>2019</td>\n",
       "      <td>5</td>\n",
       "      <td>3</td>\n",
       "      <td>0.480291</td>\n",
       "      <td>72326.452037</td>\n",
       "      <td>43</td>\n",
       "      <td>1</td>\n",
       "      <td>2</td>\n",
       "      <td>2</td>\n",
       "      <td>5</td>\n",
       "      <td>2</td>\n",
       "      <td>1</td>\n",
       "      <td>0</td>\n",
       "      <td>5</td>\n",
       "      <td>3</td>\n",
       "      <td>1</td>\n",
       "      <td>31 to 64</td>\n",
       "    </tr>\n",
       "    <tr>\n",
       "      <th>154191</th>\n",
       "      <td>211108380</td>\n",
       "      <td>Serbia</td>\n",
       "      <td>2019</td>\n",
       "      <td>14</td>\n",
       "      <td>3</td>\n",
       "      <td>0.600998</td>\n",
       "      <td>3264.106006</td>\n",
       "      <td>85</td>\n",
       "      <td>1</td>\n",
       "      <td>2</td>\n",
       "      <td>2</td>\n",
       "      <td>2</td>\n",
       "      <td>1</td>\n",
       "      <td>1</td>\n",
       "      <td>0</td>\n",
       "      <td>3</td>\n",
       "      <td>9</td>\n",
       "      <td>2</td>\n",
       "      <td>65+</td>\n",
       "    </tr>\n",
       "    <tr>\n",
       "      <th>154192</th>\n",
       "      <td>211108951</td>\n",
       "      <td>Slovakia</td>\n",
       "      <td>2019</td>\n",
       "      <td>12</td>\n",
       "      <td>4</td>\n",
       "      <td>1.199834</td>\n",
       "      <td>5114.058611</td>\n",
       "      <td>30</td>\n",
       "      <td>2</td>\n",
       "      <td>3</td>\n",
       "      <td>4</td>\n",
       "      <td>1</td>\n",
       "      <td>2</td>\n",
       "      <td>2</td>\n",
       "      <td>2</td>\n",
       "      <td>4</td>\n",
       "      <td>2</td>\n",
       "      <td>2</td>\n",
       "      <td>18 to 30</td>\n",
       "    </tr>\n",
       "    <tr>\n",
       "      <th>154193</th>\n",
       "      <td>211109671</td>\n",
       "      <td>India</td>\n",
       "      <td>2019</td>\n",
       "      <td>10</td>\n",
       "      <td>2</td>\n",
       "      <td>1.430093</td>\n",
       "      <td>409396.443098</td>\n",
       "      <td>18</td>\n",
       "      <td>1</td>\n",
       "      <td>2</td>\n",
       "      <td>3</td>\n",
       "      <td>5</td>\n",
       "      <td>1</td>\n",
       "      <td>2</td>\n",
       "      <td>0</td>\n",
       "      <td>19</td>\n",
       "      <td></td>\n",
       "      <td>2</td>\n",
       "      <td>18 to 30</td>\n",
       "    </tr>\n",
       "    <tr>\n",
       "      <th>154194</th>\n",
       "      <td>211110054</td>\n",
       "      <td>Poland</td>\n",
       "      <td>2019</td>\n",
       "      <td>12</td>\n",
       "      <td>4</td>\n",
       "      <td>1.070493</td>\n",
       "      <td>32063.139924</td>\n",
       "      <td>61</td>\n",
       "      <td>2</td>\n",
       "      <td>2</td>\n",
       "      <td>2</td>\n",
       "      <td>4</td>\n",
       "      <td>1</td>\n",
       "      <td>1</td>\n",
       "      <td>0</td>\n",
       "      <td>5</td>\n",
       "      <td>15</td>\n",
       "      <td>1</td>\n",
       "      <td>31 to 64</td>\n",
       "    </tr>\n",
       "  </tbody>\n",
       "</table>\n",
       "<p>154195 rows × 19 columns</p>\n",
       "</div>"
      ],
      "text/plain": [
       "        WPID_RANDOM         Country  Year  GlobalRegion  CountryIncomeLevel  \\\n",
       "0         111111576       Palestine  2019            11                   2   \n",
       "1         111111666        Botswana  2019             4                   3   \n",
       "2         111111887      Tajikistan  2019             7                   1   \n",
       "3         111114902  United Kingdom  2019            13                   4   \n",
       "4         111115212          Taiwan  2019             8                   4   \n",
       "...             ...             ...   ...           ...                 ...   \n",
       "154190    211108235          Brazil  2019             5                   3   \n",
       "154191    211108380          Serbia  2019            14                   3   \n",
       "154192    211108951        Slovakia  2019            12                   4   \n",
       "154193    211109671           India  2019            10                   2   \n",
       "154194    211110054          Poland  2019            12                   4   \n",
       "\n",
       "             WGT  projection_weight  Age  Gender  Education  IncomeFeelings  \\\n",
       "0       0.841987        2079.386798   58       2          2               3   \n",
       "1       0.938971        1274.932764   25       2          2               5   \n",
       "2       0.619578        3298.585616   36       1          3               4   \n",
       "3       0.420952       22882.524653   45       2          3               1   \n",
       "4       0.601208       12349.242676   29       2          3               2   \n",
       "...          ...                ...  ...     ...        ...             ...   \n",
       "154190  0.480291       72326.452037   43       1          2               2   \n",
       "154191  0.600998        3264.106006   85       1          2               2   \n",
       "154192  1.199834        5114.058611   30       2          3               4   \n",
       "154193  1.430093      409396.443098   18       1          2               3   \n",
       "154194  1.070493       32063.139924   61       2          2               2   \n",
       "\n",
       "       INCOME_5  Urbanicity  HouseholdSize ChildrenInHousehold  L3_A L3_B  L5  \\\n",
       "0             4           2              3                   0    18    1   3   \n",
       "1             2           2              2                   2     1   98  98   \n",
       "2             5           2              3                   3     5    9   1   \n",
       "3             3           1              2                   1     1   18   2   \n",
       "4             5           2              1                   0     7    3   1   \n",
       "...         ...         ...            ...                 ...   ...  ...  ..   \n",
       "154190        5           2              1                   0     5    3   1   \n",
       "154191        2           1              1                   0     3    9   2   \n",
       "154192        1           2              2                   2     4    2   2   \n",
       "154193        5           1              2                   0    19        2   \n",
       "154194        4           1              1                   0     5   15   1   \n",
       "\n",
       "        AgeGroup  \n",
       "0       31 to 64  \n",
       "1       18 to 30  \n",
       "2       31 to 64  \n",
       "3       31 to 64  \n",
       "4       18 to 30  \n",
       "...          ...  \n",
       "154190  31 to 64  \n",
       "154191       65+  \n",
       "154192  18 to 30  \n",
       "154193  18 to 30  \n",
       "154194  31 to 64  \n",
       "\n",
       "[154195 rows x 19 columns]"
      ]
     },
     "execution_count": 8,
     "metadata": {},
     "output_type": "execute_result"
    }
   ],
   "source": [
    "df_relevant"
   ]
  },
  {
   "cell_type": "code",
   "execution_count": null,
   "metadata": {},
   "outputs": [],
   "source": []
  }
 ],
 "metadata": {
  "kernelspec": {
   "display_name": "Python 3.11.0 ('hackathon')",
   "language": "python",
   "name": "python3"
  },
  "language_info": {
   "codemirror_mode": {
    "name": "ipython",
    "version": 3
   },
   "file_extension": ".py",
   "mimetype": "text/x-python",
   "name": "python",
   "nbconvert_exporter": "python",
   "pygments_lexer": "ipython3",
   "version": "3.11.0"
  },
  "orig_nbformat": 4,
  "vscode": {
   "interpreter": {
    "hash": "c666f72e0ed4b2d01b311a9d5cce1e5886b0d87fa2be505f6368ffd20032df9d"
   }
  }
 },
 "nbformat": 4,
 "nbformat_minor": 2
}
