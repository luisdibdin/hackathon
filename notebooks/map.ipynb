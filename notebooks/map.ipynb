{
 "cells": [
  {
   "cell_type": "code",
   "execution_count": 3,
   "metadata": {},
   "outputs": [],
   "source": [
    "import pandas as pd\n",
    "import plotly.graph_objects as go\n",
    "import plotly.express as px\n",
    "from geojson_rewind import rewind\n",
    "from urllib.request import urlopen\n",
    "import json\n",
    "import numpy as np"
   ]
  },
  {
   "cell_type": "code",
   "execution_count": 10,
   "metadata": {},
   "outputs": [],
   "source": [
    "df = pd.read_csv(\"../data_clean/ACLED_UK_clean.csv\", index_col=0)\n",
    "df = df[df[\"climate\"] == \"Y\"]"
   ]
  },
  {
   "cell_type": "code",
   "execution_count": 7,
   "metadata": {},
   "outputs": [],
   "source": [
    "with urlopen('https://opendata.arcgis.com/datasets/48b6b85bb7ea43699ee85f4ecd12fd36_4.geojson') as response:\n",
    "    counties = json.load(response)"
   ]
  },
  {
   "cell_type": "code",
   "execution_count": 11,
   "metadata": {},
   "outputs": [],
   "source": [
    "counties_corrected = rewind(counties,rfc7946=False)"
   ]
  },
  {
   "cell_type": "code",
   "execution_count": 12,
   "metadata": {},
   "outputs": [],
   "source": [
    "step = 0.2\n",
    "to_bin = lambda x: np.floor(x / step) * step\n",
    "df[\"latBin\"] = to_bin(df[\"latitude\"])\n",
    "df[\"lonBin\"] = to_bin(df[\"longitude\"])\n",
    "groups = df.groupby([\"latBin\", \"lonBin\", \"sub_event_type\"])"
   ]
  },
  {
   "cell_type": "code",
   "execution_count": 30,
   "metadata": {},
   "outputs": [],
   "source": [
    "df_map = groups.agg(lat=(\"latitude\", \"mean\"), lon=(\"longitude\", \"mean\"), count=(\"data_id\", \"size\")).reset_index()"
   ]
  },
  {
   "cell_type": "code",
   "execution_count": 31,
   "metadata": {},
   "outputs": [
    {
     "data": {
      "application/vnd.plotly.v1+json": {
       "config": {
        "plotlyServerURL": "https://plot.ly"
       },
       "data": [
        {
         "hovertemplate": "sub_event_type=Peaceful protest<br>count=%{marker.size}<br>lat=%{lat}<br>lon=%{lon}<extra></extra>",
         "lat": [
          50.13658,
          50.1017,
          50.1552,
          50.2091,
          50.2139,
          50.27121,
          50.3715,
          50.4707,
          50.478750000000005,
          50.72585333333333,
          50.65564444444445,
          50.7642,
          50.7341,
          50.942,
          50.9025,
          50.905675,
          50.807883333333336,
          50.8548,
          50.8365,
          50.8333,
          50.8471,
          50.82711304347826,
          50.879466666666666,
          51.0181,
          51.0804,
          51.0148,
          51.0056,
          51.0691,
          51.067,
          51.1096,
          51.13474,
          51.1449,
          51.0691,
          51.3472,
          51.300399999999996,
          51.368626666666664,
          51.2684,
          51.2838,
          51.29956,
          51.253150000000005,
          51.302775000000004,
          51.3956,
          51.2739,
          51.352000000000004,
          51.3144,
          51.3059,
          51.3731,
          51.3335,
          51.50286666666667,
          51.483181818181826,
          51.5882,
          51.4372,
          51.44594444444445,
          51.4912,
          51.477199999999996,
          51.5719,
          51.499785714285714,
          51.475375,
          51.496474809160304,
          51.47856923076923,
          51.47351666666666,
          51.575,
          51.573724999999996,
          51.6726,
          51.619166666666665,
          51.749,
          51.709833333333336,
          51.7859,
          51.736670270270274,
          51.66963333333334,
          51.751200000000004,
          51.7457,
          51.65456666666667,
          51.7365,
          51.7884,
          51.8023,
          51.8586,
          51.9472,
          51.8254,
          51.877700000000004,
          51.8661,
          51.8987,
          51.9413,
          51.8988,
          51.8161,
          51.8784,
          51.890899999999995,
          51.885259999999995,
          52.0844,
          52.1493,
          52.04865,
          52.16802272727273,
          52.0602,
          52.1977,
          52.056025000000005,
          52.2405,
          52.2274,
          52.3881,
          52.267,
          52.33733333333333,
          52.2213,
          52.3314,
          52.20563111111111,
          52.3118,
          52.25300000000001,
          52.2072,
          52.4476,
          52.5136,
          52.48047777777778,
          52.5651,
          52.408744444444444,
          52.5726,
          52.4006,
          52.4562,
          52.4766,
          52.67375,
          52.7078,
          52.72165,
          52.6375,
          52.6361,
          52.7512,
          52.6811,
          52.6286,
          52.8603,
          52.9262,
          52.912725,
          52.951825,
          52.9129,
          52.9311,
          53.14276666666667,
          53.192,
          53.022933333333334,
          53.0173,
          53.0045,
          53.22703333333334,
          53.272,
          53.2843,
          53.3943,
          53.2603,
          53.3562,
          53.3522,
          53.2336,
          53.455600000000004,
          53.415083333333335,
          53.4956,
          53.49956666666666,
          53.5398,
          53.5511,
          53.5228,
          53.5919,
          53.7485,
          53.7595,
          53.7278,
          53.76173333333334,
          53.7996,
          53.7828,
          53.7299,
          53.8185,
          53.8121,
          53.9618,
          53.8636,
          53.9929,
          53.94566666666666,
          53.8003,
          54.0484,
          54.329,
          54.3405,
          54.59640000000001,
          54.5472,
          54.5242,
          54.5791,
          54.6638,
          54.7131,
          54.7798,
          54.6181,
          54.9978,
          54.8948,
          54.9483625,
          55.0089,
          55.71805,
          55.8456,
          55.861,
          55.9383,
          55.8194,
          55.9412,
          55.9556,
          56.1181,
          56.0189,
          56.0713,
          56.1111,
          56.1962,
          56.3941,
          56.3404,
          56.4602,
          57.144683333333326,
          57.479000000000006,
          57.585,
          57.5048,
          57.6924,
          57.6099,
          57.68385,
          57.8977,
          58.3012,
          59.1166,
          60.1531
         ],
         "legendgroup": "Peaceful protest",
         "lon": [
          -5.52084,
          -5.273,
          -5.0688,
          -5.4904,
          -5.299,
          -5.056509999999999,
          -4.1431,
          -4.7243,
          -3.524725,
          -3.517186666666667,
          -2.4466555555555556,
          -1.8481,
          -1.7879,
          -2.6319,
          -1.4021,
          -1.34375,
          -1.0837416666666666,
          -0.9931,
          -0.7792,
          -0.4879,
          -0.31325000000000003,
          -0.14132173913043478,
          0.0246,
          -4.2064,
          -4.06,
          -3.1029,
          -2.1956,
          -1.7954,
          -1.3248,
          -0.27690000000000003,
          -0.17472,
          0.8775,
          1.0842,
          -2.9779,
          -2.6647499999999997,
          -2.3251866666666667,
          -1.0886,
          -0.7543,
          -0.5332800000000001,
          -0.262325,
          -0.15625,
          0.1766,
          0.5233,
          0.66785,
          0.8919,
          1.0650000000000002,
          1.3067,
          1.4196,
          -3.2184666666666666,
          -3.176290909090909,
          -2.9975,
          -2.69365,
          -2.5875333333333335,
          -1.7573500000000002,
          -0.9533,
          -0.777,
          -0.49018571428571434,
          -0.2987,
          -0.13274580152671756,
          0.051838461538461535,
          0.2843833333333333,
          0.4748,
          0.695525,
          -4.705,
          -3.9528666666666665,
          -3.6167,
          -2.2634666666666665,
          -1.485,
          -1.2600378378378378,
          -0.7615333333333333,
          -0.4725,
          -0.3408,
          -0.09484444444444445,
          0.4686,
          1.1528,
          -4.9651,
          -4.3122,
          -3.391,
          -3.037,
          -2.45195,
          -2.2444,
          -2.0754,
          -1.5475,
          -1.1513,
          -0.8128,
          -0.4153,
          0.18706666666666663,
          0.91214,
          -4.6597,
          -3.4058,
          -2.7288333333333328,
          -2.254990909090909,
          -1.3405,
          0.11884000000000002,
          1.1526,
          -3.3794,
          -2.7375,
          -2.2479,
          -2.153,
          -1.5528555555555554,
          -0.8694,
          -0.1848,
          0.12299777777777779,
          0.7483500000000001,
          0.8135,
          1.6207,
          -3.5398,
          -3.3144,
          -1.8983999999999999,
          -1.6837,
          -1.509411111111111,
          -0.2427,
          0.2633,
          1.4373,
          1.7538,
          -3.1136,
          -2.7541,
          -1.88165,
          -1.6871,
          -1.1331,
          0.3865,
          1.1597,
          1.2939,
          -3.0548,
          -1.4869666666666665,
          -1.28275,
          -1.148325,
          -0.6448,
          1.3013,
          -2.9252,
          -2.4441,
          -2.1761,
          -1.7343,
          -1.124,
          -4.138833333333333,
          -3.892333333333333,
          -3.5814,
          -3.02,
          -2.5145,
          -2.3055,
          -1.4605,
          -0.5392,
          -3.0353000000000003,
          -2.968583333333333,
          -2.5193,
          -2.2356333333333334,
          -2.1123,
          -1.4778,
          -1.1335,
          -0.6458,
          -2.9991,
          -2.7008,
          -2.05375,
          -1.7592555555555556,
          -1.5491,
          -1.0684,
          -0.9759,
          -3.057,
          -2.5372,
          -2.016,
          -1.686,
          -1.5372,
          -1.0743666666666665,
          -0.0598,
          -2.799,
          -2.7472,
          -1.4345,
          -5.9302,
          -3.5871,
          -1.5556,
          -1.2345,
          -5.6674,
          -3.4995,
          -1.5815,
          -1.0686,
          -7.3213,
          -2.9362,
          -1.6492375,
          -1.5916,
          -4.1231,
          -4.424,
          -4.2488,
          -4.1549,
          -3.9774,
          -3.2754999999999996,
          -2.7793,
          -3.936,
          -3.723,
          -3.4614,
          -3.3439,
          -3.1716,
          -3.438,
          -2.7956,
          -2.9704,
          -2.0926666666666667,
          -4.2257,
          -3.8682,
          -1.784,
          -4.1774,
          -3.6132,
          -3.2992999999999997,
          -5.1599,
          -3.2835,
          -2.5658,
          -1.1427
         ],
         "marker": {
          "color": "#636efa",
          "size": [
           5,
           1,
           6,
           4,
           2,
           10,
           5,
           1,
           4,
           15,
           9,
           1,
           1,
           1,
           15,
           4,
           12,
           1,
           6,
           2,
           4,
           23,
           3,
           2,
           1,
           3,
           2,
           5,
           3,
           2,
           5,
           1,
           2,
           10,
           2,
           15,
           1,
           4,
           5,
           4,
           4,
           1,
           1,
           2,
           2,
           3,
           1,
           1,
           3,
           11,
           2,
           2,
           36,
           2,
           4,
           1,
           7,
           4,
           131,
           13,
           6,
           1,
           4,
           2,
           6,
           1,
           3,
           1,
           37,
           3,
           3,
           6,
           9,
           2,
           2,
           2,
           2,
           1,
           2,
           2,
           2,
           1,
           1,
           1,
           1,
           2,
           3,
           5,
           2,
           1,
           6,
           22,
           2,
           5,
           8,
           2,
           1,
           2,
           1,
           9,
           1,
           1,
           45,
           2,
           3,
           2,
           1,
           1,
           9,
           3,
           9,
           3,
           2,
           1,
           3,
           2,
           5,
           2,
           2,
           3,
           2,
           4,
           17,
           3,
           6,
           4,
           16,
           1,
           1,
           3,
           1,
           6,
           1,
           1,
           6,
           3,
           1,
           1,
           1,
           1,
           15,
           1,
           2,
           6,
           1,
           12,
           1,
           1,
           3,
           2,
           1,
           2,
           2,
           9,
           12,
           1,
           1,
           1,
           1,
           2,
           1,
           4,
           6,
           1,
           7,
           4,
           1,
           11,
           1,
           3,
           1,
           1,
           1,
           2,
           1,
           2,
           1,
           8,
           1,
           2,
           1,
           41,
           1,
           1,
           24,
           1,
           8,
           1,
           3,
           2,
           2,
           1,
           2,
           14,
           6,
           3,
           1,
           1,
           2,
           2,
           2,
           1,
           1,
           1,
           1
          ],
          "sizemode": "area",
          "sizeref": 0.3275
         },
         "mode": "markers",
         "name": "Peaceful protest",
         "showlegend": true,
         "subplot": "mapbox",
         "type": "scattermapbox"
        },
        {
         "hovertemplate": "sub_event_type=Protest with intervention<br>count=%{marker.size}<br>lat=%{lat}<br>lon=%{lon}<extra></extra>",
         "lat": [
          50.1871,
          50.2091,
          50.3715,
          50.8227,
          50.8742,
          51.1251,
          51.2684,
          51.28823333333333,
          51.3956,
          51.2739,
          51.5208,
          51.4821,
          51.4785,
          51.47036666666666,
          51.4938,
          51.50477195121952,
          51.5077,
          51.47578947368421,
          51.749,
          51.746449999999996,
          51.7677,
          51.71885555555556,
          51.71113333333333,
          51.69294285714285,
          51.6196,
          51.8784,
          51.8657,
          51.8897,
          52.0871,
          52.034,
          52.31585,
          52.238,
          52.2034,
          52.49648,
          52.565099999999994,
          52.5726,
          52.6375,
          52.6286,
          53.3562,
          53.4809,
          53.4862,
          53.5919,
          54.5242,
          55.9026,
          55.861,
          55.9904,
          55.9412,
          56.0317
         ],
         "legendgroup": "Protest with intervention",
         "lon": [
          -5.4178,
          -5.4904,
          -4.1431,
          -0.1388,
          0.0119,
          1.3133,
          -1.0886,
          -0.2673333333333333,
          0.1766,
          0.5233,
          -3.2231,
          -3.1775,
          -2.57315,
          -0.48694444444444446,
          -0.33845000000000003,
          -0.12326829268292684,
          0.0469,
          0.29385789473684215,
          -3.6167,
          -2.25145,
          -0.7443,
          -0.4739444444444444,
          -0.29956666666666665,
          -0.07262857142857142,
          0.3047,
          -0.4153,
          0.1638,
          0.8995,
          -1.0233,
          -0.5958,
          -1.58165,
          -0.892,
          0.1231,
          -1.861,
          -1.6837,
          -0.2427,
          -1.6871,
          1.2939,
          -2.3055,
          -2.2374,
          -2.0978,
          -0.6458,
          -1.5556,
          -4.4049,
          -4.2488,
          -3.7094,
          -3.2755,
          -4.844200000000001
         ],
         "marker": {
          "color": "#EF553B",
          "size": [
           1,
           1,
           1,
           1,
           1,
           1,
           1,
           3,
           2,
           1,
           1,
           1,
           2,
           9,
           2,
           82,
           1,
           19,
           1,
           2,
           2,
           9,
           6,
           7,
           2,
           1,
           1,
           1,
           2,
           1,
           2,
           1,
           8,
           5,
           14,
           1,
           2,
           1,
           1,
           4,
           1,
           1,
           1,
           3,
           7,
           1,
           2,
           2
          ],
          "sizemode": "area",
          "sizeref": 0.3275
         },
         "mode": "markers",
         "name": "Protest with intervention",
         "showlegend": true,
         "subplot": "mapbox",
         "type": "scattermapbox"
        }
       ],
       "layout": {
        "autosize": false,
        "geo": {
         "fitbounds": "locations",
         "visible": false
        },
        "height": 800,
        "legend": {
         "itemsizing": "constant",
         "title": {
          "text": "sub_event_type"
         },
         "tracegroupgap": 0
        },
        "mapbox": {
         "accesstoken": "pk.eyJ1IjoibHVpc2RpYmRpbiIsImEiOiJjbGE5bDgyM28wZXdrM3dsdmZqdGVucXN3In0.ZwFwkorjA9Pa7q1dKdHuIA",
         "center": {
          "lat": 52.74787562782572,
          "lon": -1.8318141999425508
         },
         "domain": {
          "x": [
           0,
           1
          ],
          "y": [
           0,
           1
          ]
         },
         "zoom": 8
        },
        "margin": {
         "b": 0,
         "l": 0,
         "r": 0,
         "t": 0
        },
        "template": {
         "data": {
          "bar": [
           {
            "error_x": {
             "color": "#2a3f5f"
            },
            "error_y": {
             "color": "#2a3f5f"
            },
            "marker": {
             "line": {
              "color": "#E5ECF6",
              "width": 0.5
             },
             "pattern": {
              "fillmode": "overlay",
              "size": 10,
              "solidity": 0.2
             }
            },
            "type": "bar"
           }
          ],
          "barpolar": [
           {
            "marker": {
             "line": {
              "color": "#E5ECF6",
              "width": 0.5
             },
             "pattern": {
              "fillmode": "overlay",
              "size": 10,
              "solidity": 0.2
             }
            },
            "type": "barpolar"
           }
          ],
          "carpet": [
           {
            "aaxis": {
             "endlinecolor": "#2a3f5f",
             "gridcolor": "white",
             "linecolor": "white",
             "minorgridcolor": "white",
             "startlinecolor": "#2a3f5f"
            },
            "baxis": {
             "endlinecolor": "#2a3f5f",
             "gridcolor": "white",
             "linecolor": "white",
             "minorgridcolor": "white",
             "startlinecolor": "#2a3f5f"
            },
            "type": "carpet"
           }
          ],
          "choropleth": [
           {
            "colorbar": {
             "outlinewidth": 0,
             "ticks": ""
            },
            "type": "choropleth"
           }
          ],
          "contour": [
           {
            "colorbar": {
             "outlinewidth": 0,
             "ticks": ""
            },
            "colorscale": [
             [
              0,
              "#0d0887"
             ],
             [
              0.1111111111111111,
              "#46039f"
             ],
             [
              0.2222222222222222,
              "#7201a8"
             ],
             [
              0.3333333333333333,
              "#9c179e"
             ],
             [
              0.4444444444444444,
              "#bd3786"
             ],
             [
              0.5555555555555556,
              "#d8576b"
             ],
             [
              0.6666666666666666,
              "#ed7953"
             ],
             [
              0.7777777777777778,
              "#fb9f3a"
             ],
             [
              0.8888888888888888,
              "#fdca26"
             ],
             [
              1,
              "#f0f921"
             ]
            ],
            "type": "contour"
           }
          ],
          "contourcarpet": [
           {
            "colorbar": {
             "outlinewidth": 0,
             "ticks": ""
            },
            "type": "contourcarpet"
           }
          ],
          "heatmap": [
           {
            "colorbar": {
             "outlinewidth": 0,
             "ticks": ""
            },
            "colorscale": [
             [
              0,
              "#0d0887"
             ],
             [
              0.1111111111111111,
              "#46039f"
             ],
             [
              0.2222222222222222,
              "#7201a8"
             ],
             [
              0.3333333333333333,
              "#9c179e"
             ],
             [
              0.4444444444444444,
              "#bd3786"
             ],
             [
              0.5555555555555556,
              "#d8576b"
             ],
             [
              0.6666666666666666,
              "#ed7953"
             ],
             [
              0.7777777777777778,
              "#fb9f3a"
             ],
             [
              0.8888888888888888,
              "#fdca26"
             ],
             [
              1,
              "#f0f921"
             ]
            ],
            "type": "heatmap"
           }
          ],
          "heatmapgl": [
           {
            "colorbar": {
             "outlinewidth": 0,
             "ticks": ""
            },
            "colorscale": [
             [
              0,
              "#0d0887"
             ],
             [
              0.1111111111111111,
              "#46039f"
             ],
             [
              0.2222222222222222,
              "#7201a8"
             ],
             [
              0.3333333333333333,
              "#9c179e"
             ],
             [
              0.4444444444444444,
              "#bd3786"
             ],
             [
              0.5555555555555556,
              "#d8576b"
             ],
             [
              0.6666666666666666,
              "#ed7953"
             ],
             [
              0.7777777777777778,
              "#fb9f3a"
             ],
             [
              0.8888888888888888,
              "#fdca26"
             ],
             [
              1,
              "#f0f921"
             ]
            ],
            "type": "heatmapgl"
           }
          ],
          "histogram": [
           {
            "marker": {
             "pattern": {
              "fillmode": "overlay",
              "size": 10,
              "solidity": 0.2
             }
            },
            "type": "histogram"
           }
          ],
          "histogram2d": [
           {
            "colorbar": {
             "outlinewidth": 0,
             "ticks": ""
            },
            "colorscale": [
             [
              0,
              "#0d0887"
             ],
             [
              0.1111111111111111,
              "#46039f"
             ],
             [
              0.2222222222222222,
              "#7201a8"
             ],
             [
              0.3333333333333333,
              "#9c179e"
             ],
             [
              0.4444444444444444,
              "#bd3786"
             ],
             [
              0.5555555555555556,
              "#d8576b"
             ],
             [
              0.6666666666666666,
              "#ed7953"
             ],
             [
              0.7777777777777778,
              "#fb9f3a"
             ],
             [
              0.8888888888888888,
              "#fdca26"
             ],
             [
              1,
              "#f0f921"
             ]
            ],
            "type": "histogram2d"
           }
          ],
          "histogram2dcontour": [
           {
            "colorbar": {
             "outlinewidth": 0,
             "ticks": ""
            },
            "colorscale": [
             [
              0,
              "#0d0887"
             ],
             [
              0.1111111111111111,
              "#46039f"
             ],
             [
              0.2222222222222222,
              "#7201a8"
             ],
             [
              0.3333333333333333,
              "#9c179e"
             ],
             [
              0.4444444444444444,
              "#bd3786"
             ],
             [
              0.5555555555555556,
              "#d8576b"
             ],
             [
              0.6666666666666666,
              "#ed7953"
             ],
             [
              0.7777777777777778,
              "#fb9f3a"
             ],
             [
              0.8888888888888888,
              "#fdca26"
             ],
             [
              1,
              "#f0f921"
             ]
            ],
            "type": "histogram2dcontour"
           }
          ],
          "mesh3d": [
           {
            "colorbar": {
             "outlinewidth": 0,
             "ticks": ""
            },
            "type": "mesh3d"
           }
          ],
          "parcoords": [
           {
            "line": {
             "colorbar": {
              "outlinewidth": 0,
              "ticks": ""
             }
            },
            "type": "parcoords"
           }
          ],
          "pie": [
           {
            "automargin": true,
            "type": "pie"
           }
          ],
          "scatter": [
           {
            "fillpattern": {
             "fillmode": "overlay",
             "size": 10,
             "solidity": 0.2
            },
            "type": "scatter"
           }
          ],
          "scatter3d": [
           {
            "line": {
             "colorbar": {
              "outlinewidth": 0,
              "ticks": ""
             }
            },
            "marker": {
             "colorbar": {
              "outlinewidth": 0,
              "ticks": ""
             }
            },
            "type": "scatter3d"
           }
          ],
          "scattercarpet": [
           {
            "marker": {
             "colorbar": {
              "outlinewidth": 0,
              "ticks": ""
             }
            },
            "type": "scattercarpet"
           }
          ],
          "scattergeo": [
           {
            "marker": {
             "colorbar": {
              "outlinewidth": 0,
              "ticks": ""
             }
            },
            "type": "scattergeo"
           }
          ],
          "scattergl": [
           {
            "marker": {
             "colorbar": {
              "outlinewidth": 0,
              "ticks": ""
             }
            },
            "type": "scattergl"
           }
          ],
          "scattermapbox": [
           {
            "marker": {
             "colorbar": {
              "outlinewidth": 0,
              "ticks": ""
             }
            },
            "type": "scattermapbox"
           }
          ],
          "scatterpolar": [
           {
            "marker": {
             "colorbar": {
              "outlinewidth": 0,
              "ticks": ""
             }
            },
            "type": "scatterpolar"
           }
          ],
          "scatterpolargl": [
           {
            "marker": {
             "colorbar": {
              "outlinewidth": 0,
              "ticks": ""
             }
            },
            "type": "scatterpolargl"
           }
          ],
          "scatterternary": [
           {
            "marker": {
             "colorbar": {
              "outlinewidth": 0,
              "ticks": ""
             }
            },
            "type": "scatterternary"
           }
          ],
          "surface": [
           {
            "colorbar": {
             "outlinewidth": 0,
             "ticks": ""
            },
            "colorscale": [
             [
              0,
              "#0d0887"
             ],
             [
              0.1111111111111111,
              "#46039f"
             ],
             [
              0.2222222222222222,
              "#7201a8"
             ],
             [
              0.3333333333333333,
              "#9c179e"
             ],
             [
              0.4444444444444444,
              "#bd3786"
             ],
             [
              0.5555555555555556,
              "#d8576b"
             ],
             [
              0.6666666666666666,
              "#ed7953"
             ],
             [
              0.7777777777777778,
              "#fb9f3a"
             ],
             [
              0.8888888888888888,
              "#fdca26"
             ],
             [
              1,
              "#f0f921"
             ]
            ],
            "type": "surface"
           }
          ],
          "table": [
           {
            "cells": {
             "fill": {
              "color": "#EBF0F8"
             },
             "line": {
              "color": "white"
             }
            },
            "header": {
             "fill": {
              "color": "#C8D4E3"
             },
             "line": {
              "color": "white"
             }
            },
            "type": "table"
           }
          ]
         },
         "layout": {
          "annotationdefaults": {
           "arrowcolor": "#2a3f5f",
           "arrowhead": 0,
           "arrowwidth": 1
          },
          "autotypenumbers": "strict",
          "coloraxis": {
           "colorbar": {
            "outlinewidth": 0,
            "ticks": ""
           }
          },
          "colorscale": {
           "diverging": [
            [
             0,
             "#8e0152"
            ],
            [
             0.1,
             "#c51b7d"
            ],
            [
             0.2,
             "#de77ae"
            ],
            [
             0.3,
             "#f1b6da"
            ],
            [
             0.4,
             "#fde0ef"
            ],
            [
             0.5,
             "#f7f7f7"
            ],
            [
             0.6,
             "#e6f5d0"
            ],
            [
             0.7,
             "#b8e186"
            ],
            [
             0.8,
             "#7fbc41"
            ],
            [
             0.9,
             "#4d9221"
            ],
            [
             1,
             "#276419"
            ]
           ],
           "sequential": [
            [
             0,
             "#0d0887"
            ],
            [
             0.1111111111111111,
             "#46039f"
            ],
            [
             0.2222222222222222,
             "#7201a8"
            ],
            [
             0.3333333333333333,
             "#9c179e"
            ],
            [
             0.4444444444444444,
             "#bd3786"
            ],
            [
             0.5555555555555556,
             "#d8576b"
            ],
            [
             0.6666666666666666,
             "#ed7953"
            ],
            [
             0.7777777777777778,
             "#fb9f3a"
            ],
            [
             0.8888888888888888,
             "#fdca26"
            ],
            [
             1,
             "#f0f921"
            ]
           ],
           "sequentialminus": [
            [
             0,
             "#0d0887"
            ],
            [
             0.1111111111111111,
             "#46039f"
            ],
            [
             0.2222222222222222,
             "#7201a8"
            ],
            [
             0.3333333333333333,
             "#9c179e"
            ],
            [
             0.4444444444444444,
             "#bd3786"
            ],
            [
             0.5555555555555556,
             "#d8576b"
            ],
            [
             0.6666666666666666,
             "#ed7953"
            ],
            [
             0.7777777777777778,
             "#fb9f3a"
            ],
            [
             0.8888888888888888,
             "#fdca26"
            ],
            [
             1,
             "#f0f921"
            ]
           ]
          },
          "colorway": [
           "#636efa",
           "#EF553B",
           "#00cc96",
           "#ab63fa",
           "#FFA15A",
           "#19d3f3",
           "#FF6692",
           "#B6E880",
           "#FF97FF",
           "#FECB52"
          ],
          "font": {
           "color": "#2a3f5f"
          },
          "geo": {
           "bgcolor": "white",
           "lakecolor": "white",
           "landcolor": "#E5ECF6",
           "showlakes": true,
           "showland": true,
           "subunitcolor": "white"
          },
          "hoverlabel": {
           "align": "left"
          },
          "hovermode": "closest",
          "mapbox": {
           "style": "light"
          },
          "paper_bgcolor": "white",
          "plot_bgcolor": "#E5ECF6",
          "polar": {
           "angularaxis": {
            "gridcolor": "white",
            "linecolor": "white",
            "ticks": ""
           },
           "bgcolor": "#E5ECF6",
           "radialaxis": {
            "gridcolor": "white",
            "linecolor": "white",
            "ticks": ""
           }
          },
          "scene": {
           "xaxis": {
            "backgroundcolor": "#E5ECF6",
            "gridcolor": "white",
            "gridwidth": 2,
            "linecolor": "white",
            "showbackground": true,
            "ticks": "",
            "zerolinecolor": "white"
           },
           "yaxis": {
            "backgroundcolor": "#E5ECF6",
            "gridcolor": "white",
            "gridwidth": 2,
            "linecolor": "white",
            "showbackground": true,
            "ticks": "",
            "zerolinecolor": "white"
           },
           "zaxis": {
            "backgroundcolor": "#E5ECF6",
            "gridcolor": "white",
            "gridwidth": 2,
            "linecolor": "white",
            "showbackground": true,
            "ticks": "",
            "zerolinecolor": "white"
           }
          },
          "shapedefaults": {
           "line": {
            "color": "#2a3f5f"
           }
          },
          "ternary": {
           "aaxis": {
            "gridcolor": "white",
            "linecolor": "white",
            "ticks": ""
           },
           "baxis": {
            "gridcolor": "white",
            "linecolor": "white",
            "ticks": ""
           },
           "bgcolor": "#E5ECF6",
           "caxis": {
            "gridcolor": "white",
            "linecolor": "white",
            "ticks": ""
           }
          },
          "title": {
           "x": 0.05
          },
          "xaxis": {
           "automargin": true,
           "gridcolor": "white",
           "linecolor": "white",
           "ticks": "",
           "title": {
            "standoff": 15
           },
           "zerolinecolor": "white",
           "zerolinewidth": 2
          },
          "yaxis": {
           "automargin": true,
           "gridcolor": "white",
           "linecolor": "white",
           "ticks": "",
           "title": {
            "standoff": 15
           },
           "zerolinecolor": "white",
           "zerolinewidth": 2
          }
         }
        },
        "title": {
         "text": "MAP TITLE"
        },
        "width": 800
       }
      }
     },
     "metadata": {},
     "output_type": "display_data"
    }
   ],
   "source": [
    "px.set_mapbox_access_token(\"pk.eyJ1IjoibHVpc2RpYmRpbiIsImEiOiJjbGE5bDgyM28wZXdrM3dsdmZqdGVucXN3In0.ZwFwkorjA9Pa7q1dKdHuIA\")\n",
    "\n",
    "fig = px.scatter_mapbox(df_map, lat=\"lat\", lon=\"lon\", labels={'label name':'label name'}, title='MAP TITLE', color=\"sub_event_type\", size=\"count\")\n",
    "\n",
    "fig.update_layout(autosize=False,\n",
    "    margin=dict(l=0, r=0, t=0, b=0),\n",
    "    height=800,\n",
    "    width=800)\n",
    "\n",
    "fig.update_geos(fitbounds=\"locations\", visible=False)"
   ]
  },
  {
   "cell_type": "code",
   "execution_count": 32,
   "metadata": {},
   "outputs": [
    {
     "data": {
      "text/plain": [
       "'protest_map.html'"
      ]
     },
     "execution_count": 32,
     "metadata": {},
     "output_type": "execute_result"
    }
   ],
   "source": [
    "import plotly.offline as py\n",
    "\n",
    "py.plot(fig, filename=\"protest_map.html\")"
   ]
  },
  {
   "cell_type": "code",
   "execution_count": null,
   "metadata": {},
   "outputs": [],
   "source": []
  }
 ],
 "metadata": {
  "kernelspec": {
   "display_name": "Python 3.11.0 ('hackathon')",
   "language": "python",
   "name": "python3"
  },
  "language_info": {
   "codemirror_mode": {
    "name": "ipython",
    "version": 3
   },
   "file_extension": ".py",
   "mimetype": "text/x-python",
   "name": "python",
   "nbconvert_exporter": "python",
   "pygments_lexer": "ipython3",
   "version": "3.11.0"
  },
  "orig_nbformat": 4,
  "vscode": {
   "interpreter": {
    "hash": "c666f72e0ed4b2d01b311a9d5cce1e5886b0d87fa2be505f6368ffd20032df9d"
   }
  }
 },
 "nbformat": 4,
 "nbformat_minor": 2
}
