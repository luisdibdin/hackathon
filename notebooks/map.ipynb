{
 "cells": [
  {
   "cell_type": "code",
   "execution_count": 18,
   "metadata": {},
   "outputs": [],
   "source": [
    "import pandas as pd\n",
    "import plotly.graph_objects as go\n",
    "import plotly.express as px\n",
    "from geojson_rewind import rewind\n",
    "from urllib.request import urlopen\n",
    "import json\n",
    "import numpy as np"
   ]
  },
  {
   "cell_type": "code",
   "execution_count": 3,
   "metadata": {},
   "outputs": [],
   "source": [
    "df = pd.read_csv(\"../data_clean/ACLED_UK_clean.csv\", index_col=0)\n",
    "df = df[df[\"climate\"] == \"Y\"]"
   ]
  },
  {
   "cell_type": "code",
   "execution_count": 7,
   "metadata": {},
   "outputs": [],
   "source": [
    "with urlopen('https://opendata.arcgis.com/datasets/48b6b85bb7ea43699ee85f4ecd12fd36_4.geojson') as response:\n",
    "    counties = json.load(response)"
   ]
  },
  {
   "cell_type": "code",
   "execution_count": 11,
   "metadata": {},
   "outputs": [],
   "source": [
    "counties_corrected = rewind(counties,rfc7946=False)"
   ]
  },
  {
   "cell_type": "code",
   "execution_count": 19,
   "metadata": {},
   "outputs": [],
   "source": [
    "dummy_data = pd.read_csv('https://opendata.arcgis.com/datasets/48b6b85bb7ea43699ee85f4ecd12fd36_0.csv?outSR=%7B%22latestWkid%22%3A27700%2C%22wkid%22%3A27700%7D')\n",
    "#add dummy data\n",
    "dummy_data['value'] = np.random.randint(10, 100, size=len(dummy_data))"
   ]
  },
  {
   "cell_type": "code",
   "execution_count": 79,
   "metadata": {},
   "outputs": [],
   "source": [
    "step = 0.2\n",
    "to_bin = lambda x: np.floor(x / step) * step\n",
    "df[\"latBin\"] = to_bin(df[\"latitude\"])\n",
    "df[\"lonBin\"] = to_bin(df[\"longitude\"])\n",
    "groups = df.groupby([\"latBin\", \"lonBin\", \"sub_event_type\"])"
   ]
  },
  {
   "cell_type": "code",
   "execution_count": 80,
   "metadata": {},
   "outputs": [],
   "source": [
    "df_map = groups.size().reset_index(name='counts')"
   ]
  },
  {
   "cell_type": "code",
   "execution_count": 81,
   "metadata": {},
   "outputs": [
    {
     "data": {
      "text/html": [
       "<div>\n",
       "<style scoped>\n",
       "    .dataframe tbody tr th:only-of-type {\n",
       "        vertical-align: middle;\n",
       "    }\n",
       "\n",
       "    .dataframe tbody tr th {\n",
       "        vertical-align: top;\n",
       "    }\n",
       "\n",
       "    .dataframe thead th {\n",
       "        text-align: right;\n",
       "    }\n",
       "</style>\n",
       "<table border=\"1\" class=\"dataframe\">\n",
       "  <thead>\n",
       "    <tr style=\"text-align: right;\">\n",
       "      <th></th>\n",
       "      <th>latBin</th>\n",
       "      <th>lonBin</th>\n",
       "      <th>sub_event_type</th>\n",
       "      <th>counts</th>\n",
       "    </tr>\n",
       "  </thead>\n",
       "  <tbody>\n",
       "    <tr>\n",
       "      <th>0</th>\n",
       "      <td>50.0</td>\n",
       "      <td>-5.6</td>\n",
       "      <td>Peaceful protest</td>\n",
       "      <td>5</td>\n",
       "    </tr>\n",
       "    <tr>\n",
       "      <th>1</th>\n",
       "      <td>50.0</td>\n",
       "      <td>-5.6</td>\n",
       "      <td>Protest with intervention</td>\n",
       "      <td>1</td>\n",
       "    </tr>\n",
       "    <tr>\n",
       "      <th>2</th>\n",
       "      <td>50.0</td>\n",
       "      <td>-5.4</td>\n",
       "      <td>Peaceful protest</td>\n",
       "      <td>1</td>\n",
       "    </tr>\n",
       "    <tr>\n",
       "      <th>3</th>\n",
       "      <td>50.0</td>\n",
       "      <td>-5.2</td>\n",
       "      <td>Peaceful protest</td>\n",
       "      <td>6</td>\n",
       "    </tr>\n",
       "    <tr>\n",
       "      <th>4</th>\n",
       "      <td>50.2</td>\n",
       "      <td>-5.6</td>\n",
       "      <td>Peaceful protest</td>\n",
       "      <td>4</td>\n",
       "    </tr>\n",
       "    <tr>\n",
       "      <th>...</th>\n",
       "      <td>...</td>\n",
       "      <td>...</td>\n",
       "      <td>...</td>\n",
       "      <td>...</td>\n",
       "    </tr>\n",
       "    <tr>\n",
       "      <th>248</th>\n",
       "      <td>57.6</td>\n",
       "      <td>-3.4</td>\n",
       "      <td>Peaceful protest</td>\n",
       "      <td>2</td>\n",
       "    </tr>\n",
       "    <tr>\n",
       "      <th>249</th>\n",
       "      <td>57.8</td>\n",
       "      <td>-5.2</td>\n",
       "      <td>Peaceful protest</td>\n",
       "      <td>1</td>\n",
       "    </tr>\n",
       "    <tr>\n",
       "      <th>250</th>\n",
       "      <td>58.2</td>\n",
       "      <td>-3.4</td>\n",
       "      <td>Peaceful protest</td>\n",
       "      <td>1</td>\n",
       "    </tr>\n",
       "    <tr>\n",
       "      <th>251</th>\n",
       "      <td>59.0</td>\n",
       "      <td>-2.6</td>\n",
       "      <td>Peaceful protest</td>\n",
       "      <td>1</td>\n",
       "    </tr>\n",
       "    <tr>\n",
       "      <th>252</th>\n",
       "      <td>60.0</td>\n",
       "      <td>-1.2</td>\n",
       "      <td>Peaceful protest</td>\n",
       "      <td>1</td>\n",
       "    </tr>\n",
       "  </tbody>\n",
       "</table>\n",
       "<p>253 rows × 4 columns</p>\n",
       "</div>"
      ],
      "text/plain": [
       "     latBin  lonBin             sub_event_type  counts\n",
       "0      50.0    -5.6           Peaceful protest       5\n",
       "1      50.0    -5.6  Protest with intervention       1\n",
       "2      50.0    -5.4           Peaceful protest       1\n",
       "3      50.0    -5.2           Peaceful protest       6\n",
       "4      50.2    -5.6           Peaceful protest       4\n",
       "..      ...     ...                        ...     ...\n",
       "248    57.6    -3.4           Peaceful protest       2\n",
       "249    57.8    -5.2           Peaceful protest       1\n",
       "250    58.2    -3.4           Peaceful protest       1\n",
       "251    59.0    -2.6           Peaceful protest       1\n",
       "252    60.0    -1.2           Peaceful protest       1\n",
       "\n",
       "[253 rows x 4 columns]"
      ]
     },
     "execution_count": 81,
     "metadata": {},
     "output_type": "execute_result"
    }
   ],
   "source": [
    "df_map"
   ]
  },
  {
   "cell_type": "code",
   "execution_count": 82,
   "metadata": {},
   "outputs": [
    {
     "data": {
      "application/vnd.plotly.v1+json": {
       "config": {
        "plotlyServerURL": "https://plot.ly"
       },
       "data": [
        {
         "hovertemplate": "sub_event_type=Peaceful protest<br>counts=%{marker.size}<br>latBin=%{lat}<br>lonBin=%{lon}<extra></extra>",
         "lat": [
          50,
          50,
          50,
          50.2,
          50.2,
          50.2,
          50.2,
          50.400000000000006,
          50.400000000000006,
          50.6,
          50.6,
          50.6,
          50.6,
          50.800000000000004,
          50.800000000000004,
          50.800000000000004,
          50.800000000000004,
          50.800000000000004,
          50.800000000000004,
          50.800000000000004,
          50.800000000000004,
          50.800000000000004,
          50.800000000000004,
          51,
          51,
          51,
          51,
          51,
          51,
          51,
          51,
          51,
          51,
          51.2,
          51.2,
          51.2,
          51.2,
          51.2,
          51.2,
          51.2,
          51.2,
          51.2,
          51.2,
          51.2,
          51.2,
          51.2,
          51.2,
          51.2,
          51.400000000000006,
          51.400000000000006,
          51.400000000000006,
          51.400000000000006,
          51.400000000000006,
          51.400000000000006,
          51.400000000000006,
          51.400000000000006,
          51.400000000000006,
          51.400000000000006,
          51.400000000000006,
          51.400000000000006,
          51.400000000000006,
          51.400000000000006,
          51.400000000000006,
          51.6,
          51.6,
          51.6,
          51.6,
          51.6,
          51.6,
          51.6,
          51.6,
          51.6,
          51.6,
          51.6,
          51.6,
          51.800000000000004,
          51.800000000000004,
          51.800000000000004,
          51.800000000000004,
          51.800000000000004,
          51.800000000000004,
          51.800000000000004,
          51.800000000000004,
          51.800000000000004,
          51.800000000000004,
          51.800000000000004,
          51.800000000000004,
          51.800000000000004,
          52,
          52,
          52,
          52,
          52,
          52,
          52,
          52.2,
          52.2,
          52.2,
          52.2,
          52.2,
          52.2,
          52.2,
          52.2,
          52.2,
          52.2,
          52.2,
          52.400000000000006,
          52.400000000000006,
          52.400000000000006,
          52.400000000000006,
          52.400000000000006,
          52.400000000000006,
          52.400000000000006,
          52.400000000000006,
          52.400000000000006,
          52.6,
          52.6,
          52.6,
          52.6,
          52.6,
          52.6,
          52.6,
          52.6,
          52.800000000000004,
          52.800000000000004,
          52.800000000000004,
          52.800000000000004,
          52.800000000000004,
          52.800000000000004,
          53,
          53,
          53,
          53,
          53,
          53.2,
          53.2,
          53.2,
          53.2,
          53.2,
          53.2,
          53.2,
          53.2,
          53.400000000000006,
          53.400000000000006,
          53.400000000000006,
          53.400000000000006,
          53.400000000000006,
          53.400000000000006,
          53.400000000000006,
          53.400000000000006,
          53.6,
          53.6,
          53.6,
          53.6,
          53.6,
          53.6,
          53.6,
          53.800000000000004,
          53.800000000000004,
          53.800000000000004,
          53.800000000000004,
          53.800000000000004,
          53.800000000000004,
          53.800000000000004,
          54,
          54.2,
          54.2,
          54.400000000000006,
          54.400000000000006,
          54.400000000000006,
          54.400000000000006,
          54.6,
          54.6,
          54.6,
          54.6,
          54.800000000000004,
          54.800000000000004,
          54.800000000000004,
          55,
          55.6,
          55.800000000000004,
          55.800000000000004,
          55.800000000000004,
          55.800000000000004,
          55.800000000000004,
          55.800000000000004,
          56,
          56,
          56,
          56,
          56,
          56.2,
          56.2,
          56.400000000000006,
          57,
          57.400000000000006,
          57.400000000000006,
          57.400000000000006,
          57.6,
          57.6,
          57.6,
          57.800000000000004,
          58.2,
          59,
          60
         ],
         "legendgroup": "Peaceful protest",
         "lon": [
          -5.6000000000000005,
          -5.4,
          -5.2,
          -5.6000000000000005,
          -5.4,
          -5.2,
          -4.2,
          -4.800000000000001,
          -3.6,
          -3.6,
          -2.6,
          -2,
          -1.8,
          -2.8000000000000003,
          -1.6,
          -1.4000000000000001,
          -1.2000000000000002,
          -1,
          -0.8,
          -0.6000000000000001,
          -0.4,
          -0.2,
          0,
          -4.4,
          -4.2,
          -3.2,
          -2.2,
          -1.8,
          -1.4000000000000001,
          -0.4,
          -0.2,
          0.8,
          1,
          -3,
          -2.8000000000000003,
          -2.4000000000000004,
          -1.2000000000000002,
          -0.8,
          -0.6000000000000001,
          -0.4,
          -0.2,
          0,
          0.4,
          0.6000000000000001,
          0.8,
          1,
          1.2000000000000002,
          1.4000000000000001,
          -3.4000000000000004,
          -3.2,
          -3,
          -2.8000000000000003,
          -2.6,
          -1.8,
          -1,
          -0.8,
          -0.6000000000000001,
          -0.4,
          -0.2,
          0,
          0.2,
          0.4,
          0.6000000000000001,
          -4.800000000000001,
          -4,
          -3.8000000000000003,
          -2.4000000000000004,
          -1.6,
          -1.4000000000000001,
          -0.8,
          -0.6000000000000001,
          -0.4,
          -0.2,
          0.4,
          1,
          -5,
          -4.4,
          -3.4000000000000004,
          -3.2,
          -2.6,
          -2.4000000000000004,
          -2.2,
          -1.6,
          -1.2000000000000002,
          -1,
          -0.6000000000000001,
          0,
          0.8,
          -4.800000000000001,
          -3.6,
          -2.8000000000000003,
          -2.4000000000000004,
          -1.4000000000000001,
          0,
          1,
          -3.4000000000000004,
          -2.8000000000000003,
          -2.4000000000000004,
          -2.2,
          -1.6,
          -1,
          -0.2,
          0,
          0.6000000000000001,
          0.8,
          1.6,
          -3.6,
          -3.4000000000000004,
          -2,
          -1.8,
          -1.6,
          -0.4,
          0.2,
          1.4000000000000001,
          1.6,
          -3.2,
          -2.8000000000000003,
          -2,
          -1.8,
          -1.2000000000000002,
          0.2,
          1,
          1.2000000000000002,
          -3.2,
          -1.6,
          -1.4000000000000001,
          -1.2000000000000002,
          -0.8,
          1.2000000000000002,
          -3,
          -2.6,
          -2.2,
          -1.8,
          -1.2000000000000002,
          -4.2,
          -4,
          -3.6,
          -3.2,
          -2.6,
          -2.4000000000000004,
          -1.6,
          -0.6000000000000001,
          -3.2,
          -3,
          -2.6,
          -2.4000000000000004,
          -2.2,
          -1.6,
          -1.2000000000000002,
          -0.8,
          -3,
          -2.8000000000000003,
          -2.2,
          -1.8,
          -1.6,
          -1.2000000000000002,
          -1,
          -3.2,
          -2.6,
          -2.2,
          -1.8,
          -1.6,
          -1.2000000000000002,
          -0.2,
          -2.8000000000000003,
          -2.8000000000000003,
          -1.6,
          -6,
          -3.6,
          -1.6,
          -1.4000000000000001,
          -5.800000000000001,
          -3.6,
          -1.6,
          -1.2000000000000002,
          -7.4,
          -3,
          -1.8,
          -1.6,
          -4.2,
          -4.6000000000000005,
          -4.4,
          -4.2,
          -4,
          -3.4000000000000004,
          -2.8000000000000003,
          -4,
          -3.8000000000000003,
          -3.6,
          -3.4000000000000004,
          -3.2,
          -3.6,
          -2.8000000000000003,
          -3,
          -2.2,
          -4.4,
          -4,
          -1.8,
          -4.2,
          -3.8000000000000003,
          -3.4000000000000004,
          -5.2,
          -3.4000000000000004,
          -2.6,
          -1.2000000000000002
         ],
         "marker": {
          "color": "#636efa",
          "size": [
           5,
           1,
           6,
           4,
           2,
           10,
           5,
           1,
           4,
           15,
           9,
           1,
           1,
           1,
           15,
           4,
           12,
           1,
           6,
           2,
           4,
           23,
           3,
           2,
           1,
           3,
           2,
           5,
           3,
           2,
           5,
           1,
           2,
           10,
           2,
           15,
           1,
           4,
           5,
           4,
           4,
           1,
           1,
           2,
           2,
           3,
           1,
           1,
           3,
           11,
           2,
           2,
           36,
           2,
           4,
           1,
           7,
           4,
           131,
           13,
           6,
           1,
           4,
           2,
           6,
           1,
           3,
           1,
           37,
           3,
           3,
           6,
           9,
           2,
           2,
           2,
           2,
           1,
           2,
           2,
           2,
           1,
           1,
           1,
           1,
           2,
           3,
           5,
           2,
           1,
           6,
           22,
           2,
           5,
           8,
           2,
           1,
           2,
           1,
           9,
           1,
           1,
           45,
           2,
           3,
           2,
           1,
           1,
           9,
           3,
           9,
           3,
           2,
           1,
           3,
           2,
           5,
           2,
           2,
           3,
           2,
           4,
           17,
           3,
           6,
           4,
           16,
           1,
           1,
           3,
           1,
           6,
           1,
           1,
           6,
           3,
           1,
           1,
           1,
           1,
           15,
           1,
           2,
           6,
           1,
           12,
           1,
           1,
           3,
           2,
           1,
           2,
           2,
           9,
           12,
           1,
           1,
           1,
           1,
           2,
           1,
           4,
           6,
           1,
           7,
           4,
           1,
           11,
           1,
           3,
           1,
           1,
           1,
           2,
           1,
           2,
           1,
           8,
           1,
           2,
           1,
           41,
           1,
           1,
           24,
           1,
           8,
           1,
           3,
           2,
           2,
           1,
           2,
           14,
           6,
           3,
           1,
           1,
           2,
           2,
           2,
           1,
           1,
           1,
           1
          ],
          "sizemode": "area",
          "sizeref": 0.3275
         },
         "mode": "markers",
         "name": "Peaceful protest",
         "showlegend": true,
         "subplot": "mapbox",
         "type": "scattermapbox"
        },
        {
         "hovertemplate": "sub_event_type=Protest with intervention<br>counts=%{marker.size}<br>latBin=%{lat}<br>lonBin=%{lon}<extra></extra>",
         "lat": [
          50,
          50.2,
          50.2,
          50.800000000000004,
          50.800000000000004,
          51,
          51.2,
          51.2,
          51.2,
          51.2,
          51.400000000000006,
          51.400000000000006,
          51.400000000000006,
          51.400000000000006,
          51.400000000000006,
          51.400000000000006,
          51.400000000000006,
          51.400000000000006,
          51.6,
          51.6,
          51.6,
          51.6,
          51.6,
          51.6,
          51.6,
          51.800000000000004,
          51.800000000000004,
          51.800000000000004,
          52,
          52,
          52.2,
          52.2,
          52.2,
          52.400000000000006,
          52.400000000000006,
          52.400000000000006,
          52.6,
          52.6,
          53.2,
          53.400000000000006,
          53.400000000000006,
          53.400000000000006,
          54.400000000000006,
          55.800000000000004,
          55.800000000000004,
          55.800000000000004,
          55.800000000000004,
          56
         ],
         "legendgroup": "Protest with intervention",
         "lon": [
          -5.6000000000000005,
          -5.6000000000000005,
          -4.2,
          -0.2,
          0,
          1.2000000000000002,
          -1.2000000000000002,
          -0.4,
          0,
          0.4,
          -3.4000000000000004,
          -3.2,
          -2.6,
          -0.6000000000000001,
          -0.4,
          -0.2,
          0,
          0.2,
          -3.8000000000000003,
          -2.4000000000000004,
          -0.8,
          -0.6000000000000001,
          -0.4,
          -0.2,
          0.2,
          -0.6000000000000001,
          0,
          0.8,
          -1.2000000000000002,
          -0.6000000000000001,
          -1.6,
          -1,
          0,
          -2,
          -1.8,
          -0.4,
          -1.8,
          1.2000000000000002,
          -2.4000000000000004,
          -2.4000000000000004,
          -2.2,
          -0.8,
          -1.6,
          -4.6000000000000005,
          -4.4,
          -3.8000000000000003,
          -3.4000000000000004,
          -5
         ],
         "marker": {
          "color": "#EF553B",
          "size": [
           1,
           1,
           1,
           1,
           1,
           1,
           1,
           3,
           2,
           1,
           1,
           1,
           2,
           9,
           2,
           82,
           1,
           19,
           1,
           2,
           2,
           9,
           6,
           7,
           2,
           1,
           1,
           1,
           2,
           1,
           2,
           1,
           8,
           5,
           14,
           1,
           2,
           1,
           1,
           4,
           1,
           1,
           1,
           3,
           7,
           1,
           2,
           2
          ],
          "sizemode": "area",
          "sizeref": 0.3275
         },
         "mode": "markers",
         "name": "Protest with intervention",
         "showlegend": true,
         "subplot": "mapbox",
         "type": "scattermapbox"
        }
       ],
       "layout": {
        "autosize": false,
        "geo": {
         "fitbounds": "locations",
         "visible": false
        },
        "height": 800,
        "legend": {
         "itemsizing": "constant",
         "title": {
          "text": "sub_event_type"
         },
         "tracegroupgap": 0
        },
        "mapbox": {
         "accesstoken": "pk.eyJ1IjoibHVpc2RpYmRpbiIsImEiOiJjbGE5bDgyM28wZXdrM3dsdmZqdGVucXN3In0.ZwFwkorjA9Pa7q1dKdHuIA",
         "center": {
          "lat": 52.649011857707514,
          "lon": -1.9272727272727275
         },
         "domain": {
          "x": [
           0,
           1
          ],
          "y": [
           0,
           1
          ]
         },
         "zoom": 8
        },
        "margin": {
         "b": 0,
         "l": 0,
         "r": 0,
         "t": 0
        },
        "template": {
         "data": {
          "bar": [
           {
            "error_x": {
             "color": "#2a3f5f"
            },
            "error_y": {
             "color": "#2a3f5f"
            },
            "marker": {
             "line": {
              "color": "#E5ECF6",
              "width": 0.5
             },
             "pattern": {
              "fillmode": "overlay",
              "size": 10,
              "solidity": 0.2
             }
            },
            "type": "bar"
           }
          ],
          "barpolar": [
           {
            "marker": {
             "line": {
              "color": "#E5ECF6",
              "width": 0.5
             },
             "pattern": {
              "fillmode": "overlay",
              "size": 10,
              "solidity": 0.2
             }
            },
            "type": "barpolar"
           }
          ],
          "carpet": [
           {
            "aaxis": {
             "endlinecolor": "#2a3f5f",
             "gridcolor": "white",
             "linecolor": "white",
             "minorgridcolor": "white",
             "startlinecolor": "#2a3f5f"
            },
            "baxis": {
             "endlinecolor": "#2a3f5f",
             "gridcolor": "white",
             "linecolor": "white",
             "minorgridcolor": "white",
             "startlinecolor": "#2a3f5f"
            },
            "type": "carpet"
           }
          ],
          "choropleth": [
           {
            "colorbar": {
             "outlinewidth": 0,
             "ticks": ""
            },
            "type": "choropleth"
           }
          ],
          "contour": [
           {
            "colorbar": {
             "outlinewidth": 0,
             "ticks": ""
            },
            "colorscale": [
             [
              0,
              "#0d0887"
             ],
             [
              0.1111111111111111,
              "#46039f"
             ],
             [
              0.2222222222222222,
              "#7201a8"
             ],
             [
              0.3333333333333333,
              "#9c179e"
             ],
             [
              0.4444444444444444,
              "#bd3786"
             ],
             [
              0.5555555555555556,
              "#d8576b"
             ],
             [
              0.6666666666666666,
              "#ed7953"
             ],
             [
              0.7777777777777778,
              "#fb9f3a"
             ],
             [
              0.8888888888888888,
              "#fdca26"
             ],
             [
              1,
              "#f0f921"
             ]
            ],
            "type": "contour"
           }
          ],
          "contourcarpet": [
           {
            "colorbar": {
             "outlinewidth": 0,
             "ticks": ""
            },
            "type": "contourcarpet"
           }
          ],
          "heatmap": [
           {
            "colorbar": {
             "outlinewidth": 0,
             "ticks": ""
            },
            "colorscale": [
             [
              0,
              "#0d0887"
             ],
             [
              0.1111111111111111,
              "#46039f"
             ],
             [
              0.2222222222222222,
              "#7201a8"
             ],
             [
              0.3333333333333333,
              "#9c179e"
             ],
             [
              0.4444444444444444,
              "#bd3786"
             ],
             [
              0.5555555555555556,
              "#d8576b"
             ],
             [
              0.6666666666666666,
              "#ed7953"
             ],
             [
              0.7777777777777778,
              "#fb9f3a"
             ],
             [
              0.8888888888888888,
              "#fdca26"
             ],
             [
              1,
              "#f0f921"
             ]
            ],
            "type": "heatmap"
           }
          ],
          "heatmapgl": [
           {
            "colorbar": {
             "outlinewidth": 0,
             "ticks": ""
            },
            "colorscale": [
             [
              0,
              "#0d0887"
             ],
             [
              0.1111111111111111,
              "#46039f"
             ],
             [
              0.2222222222222222,
              "#7201a8"
             ],
             [
              0.3333333333333333,
              "#9c179e"
             ],
             [
              0.4444444444444444,
              "#bd3786"
             ],
             [
              0.5555555555555556,
              "#d8576b"
             ],
             [
              0.6666666666666666,
              "#ed7953"
             ],
             [
              0.7777777777777778,
              "#fb9f3a"
             ],
             [
              0.8888888888888888,
              "#fdca26"
             ],
             [
              1,
              "#f0f921"
             ]
            ],
            "type": "heatmapgl"
           }
          ],
          "histogram": [
           {
            "marker": {
             "pattern": {
              "fillmode": "overlay",
              "size": 10,
              "solidity": 0.2
             }
            },
            "type": "histogram"
           }
          ],
          "histogram2d": [
           {
            "colorbar": {
             "outlinewidth": 0,
             "ticks": ""
            },
            "colorscale": [
             [
              0,
              "#0d0887"
             ],
             [
              0.1111111111111111,
              "#46039f"
             ],
             [
              0.2222222222222222,
              "#7201a8"
             ],
             [
              0.3333333333333333,
              "#9c179e"
             ],
             [
              0.4444444444444444,
              "#bd3786"
             ],
             [
              0.5555555555555556,
              "#d8576b"
             ],
             [
              0.6666666666666666,
              "#ed7953"
             ],
             [
              0.7777777777777778,
              "#fb9f3a"
             ],
             [
              0.8888888888888888,
              "#fdca26"
             ],
             [
              1,
              "#f0f921"
             ]
            ],
            "type": "histogram2d"
           }
          ],
          "histogram2dcontour": [
           {
            "colorbar": {
             "outlinewidth": 0,
             "ticks": ""
            },
            "colorscale": [
             [
              0,
              "#0d0887"
             ],
             [
              0.1111111111111111,
              "#46039f"
             ],
             [
              0.2222222222222222,
              "#7201a8"
             ],
             [
              0.3333333333333333,
              "#9c179e"
             ],
             [
              0.4444444444444444,
              "#bd3786"
             ],
             [
              0.5555555555555556,
              "#d8576b"
             ],
             [
              0.6666666666666666,
              "#ed7953"
             ],
             [
              0.7777777777777778,
              "#fb9f3a"
             ],
             [
              0.8888888888888888,
              "#fdca26"
             ],
             [
              1,
              "#f0f921"
             ]
            ],
            "type": "histogram2dcontour"
           }
          ],
          "mesh3d": [
           {
            "colorbar": {
             "outlinewidth": 0,
             "ticks": ""
            },
            "type": "mesh3d"
           }
          ],
          "parcoords": [
           {
            "line": {
             "colorbar": {
              "outlinewidth": 0,
              "ticks": ""
             }
            },
            "type": "parcoords"
           }
          ],
          "pie": [
           {
            "automargin": true,
            "type": "pie"
           }
          ],
          "scatter": [
           {
            "fillpattern": {
             "fillmode": "overlay",
             "size": 10,
             "solidity": 0.2
            },
            "type": "scatter"
           }
          ],
          "scatter3d": [
           {
            "line": {
             "colorbar": {
              "outlinewidth": 0,
              "ticks": ""
             }
            },
            "marker": {
             "colorbar": {
              "outlinewidth": 0,
              "ticks": ""
             }
            },
            "type": "scatter3d"
           }
          ],
          "scattercarpet": [
           {
            "marker": {
             "colorbar": {
              "outlinewidth": 0,
              "ticks": ""
             }
            },
            "type": "scattercarpet"
           }
          ],
          "scattergeo": [
           {
            "marker": {
             "colorbar": {
              "outlinewidth": 0,
              "ticks": ""
             }
            },
            "type": "scattergeo"
           }
          ],
          "scattergl": [
           {
            "marker": {
             "colorbar": {
              "outlinewidth": 0,
              "ticks": ""
             }
            },
            "type": "scattergl"
           }
          ],
          "scattermapbox": [
           {
            "marker": {
             "colorbar": {
              "outlinewidth": 0,
              "ticks": ""
             }
            },
            "type": "scattermapbox"
           }
          ],
          "scatterpolar": [
           {
            "marker": {
             "colorbar": {
              "outlinewidth": 0,
              "ticks": ""
             }
            },
            "type": "scatterpolar"
           }
          ],
          "scatterpolargl": [
           {
            "marker": {
             "colorbar": {
              "outlinewidth": 0,
              "ticks": ""
             }
            },
            "type": "scatterpolargl"
           }
          ],
          "scatterternary": [
           {
            "marker": {
             "colorbar": {
              "outlinewidth": 0,
              "ticks": ""
             }
            },
            "type": "scatterternary"
           }
          ],
          "surface": [
           {
            "colorbar": {
             "outlinewidth": 0,
             "ticks": ""
            },
            "colorscale": [
             [
              0,
              "#0d0887"
             ],
             [
              0.1111111111111111,
              "#46039f"
             ],
             [
              0.2222222222222222,
              "#7201a8"
             ],
             [
              0.3333333333333333,
              "#9c179e"
             ],
             [
              0.4444444444444444,
              "#bd3786"
             ],
             [
              0.5555555555555556,
              "#d8576b"
             ],
             [
              0.6666666666666666,
              "#ed7953"
             ],
             [
              0.7777777777777778,
              "#fb9f3a"
             ],
             [
              0.8888888888888888,
              "#fdca26"
             ],
             [
              1,
              "#f0f921"
             ]
            ],
            "type": "surface"
           }
          ],
          "table": [
           {
            "cells": {
             "fill": {
              "color": "#EBF0F8"
             },
             "line": {
              "color": "white"
             }
            },
            "header": {
             "fill": {
              "color": "#C8D4E3"
             },
             "line": {
              "color": "white"
             }
            },
            "type": "table"
           }
          ]
         },
         "layout": {
          "annotationdefaults": {
           "arrowcolor": "#2a3f5f",
           "arrowhead": 0,
           "arrowwidth": 1
          },
          "autotypenumbers": "strict",
          "coloraxis": {
           "colorbar": {
            "outlinewidth": 0,
            "ticks": ""
           }
          },
          "colorscale": {
           "diverging": [
            [
             0,
             "#8e0152"
            ],
            [
             0.1,
             "#c51b7d"
            ],
            [
             0.2,
             "#de77ae"
            ],
            [
             0.3,
             "#f1b6da"
            ],
            [
             0.4,
             "#fde0ef"
            ],
            [
             0.5,
             "#f7f7f7"
            ],
            [
             0.6,
             "#e6f5d0"
            ],
            [
             0.7,
             "#b8e186"
            ],
            [
             0.8,
             "#7fbc41"
            ],
            [
             0.9,
             "#4d9221"
            ],
            [
             1,
             "#276419"
            ]
           ],
           "sequential": [
            [
             0,
             "#0d0887"
            ],
            [
             0.1111111111111111,
             "#46039f"
            ],
            [
             0.2222222222222222,
             "#7201a8"
            ],
            [
             0.3333333333333333,
             "#9c179e"
            ],
            [
             0.4444444444444444,
             "#bd3786"
            ],
            [
             0.5555555555555556,
             "#d8576b"
            ],
            [
             0.6666666666666666,
             "#ed7953"
            ],
            [
             0.7777777777777778,
             "#fb9f3a"
            ],
            [
             0.8888888888888888,
             "#fdca26"
            ],
            [
             1,
             "#f0f921"
            ]
           ],
           "sequentialminus": [
            [
             0,
             "#0d0887"
            ],
            [
             0.1111111111111111,
             "#46039f"
            ],
            [
             0.2222222222222222,
             "#7201a8"
            ],
            [
             0.3333333333333333,
             "#9c179e"
            ],
            [
             0.4444444444444444,
             "#bd3786"
            ],
            [
             0.5555555555555556,
             "#d8576b"
            ],
            [
             0.6666666666666666,
             "#ed7953"
            ],
            [
             0.7777777777777778,
             "#fb9f3a"
            ],
            [
             0.8888888888888888,
             "#fdca26"
            ],
            [
             1,
             "#f0f921"
            ]
           ]
          },
          "colorway": [
           "#636efa",
           "#EF553B",
           "#00cc96",
           "#ab63fa",
           "#FFA15A",
           "#19d3f3",
           "#FF6692",
           "#B6E880",
           "#FF97FF",
           "#FECB52"
          ],
          "font": {
           "color": "#2a3f5f"
          },
          "geo": {
           "bgcolor": "white",
           "lakecolor": "white",
           "landcolor": "#E5ECF6",
           "showlakes": true,
           "showland": true,
           "subunitcolor": "white"
          },
          "hoverlabel": {
           "align": "left"
          },
          "hovermode": "closest",
          "mapbox": {
           "style": "light"
          },
          "paper_bgcolor": "white",
          "plot_bgcolor": "#E5ECF6",
          "polar": {
           "angularaxis": {
            "gridcolor": "white",
            "linecolor": "white",
            "ticks": ""
           },
           "bgcolor": "#E5ECF6",
           "radialaxis": {
            "gridcolor": "white",
            "linecolor": "white",
            "ticks": ""
           }
          },
          "scene": {
           "xaxis": {
            "backgroundcolor": "#E5ECF6",
            "gridcolor": "white",
            "gridwidth": 2,
            "linecolor": "white",
            "showbackground": true,
            "ticks": "",
            "zerolinecolor": "white"
           },
           "yaxis": {
            "backgroundcolor": "#E5ECF6",
            "gridcolor": "white",
            "gridwidth": 2,
            "linecolor": "white",
            "showbackground": true,
            "ticks": "",
            "zerolinecolor": "white"
           },
           "zaxis": {
            "backgroundcolor": "#E5ECF6",
            "gridcolor": "white",
            "gridwidth": 2,
            "linecolor": "white",
            "showbackground": true,
            "ticks": "",
            "zerolinecolor": "white"
           }
          },
          "shapedefaults": {
           "line": {
            "color": "#2a3f5f"
           }
          },
          "ternary": {
           "aaxis": {
            "gridcolor": "white",
            "linecolor": "white",
            "ticks": ""
           },
           "baxis": {
            "gridcolor": "white",
            "linecolor": "white",
            "ticks": ""
           },
           "bgcolor": "#E5ECF6",
           "caxis": {
            "gridcolor": "white",
            "linecolor": "white",
            "ticks": ""
           }
          },
          "title": {
           "x": 0.05
          },
          "xaxis": {
           "automargin": true,
           "gridcolor": "white",
           "linecolor": "white",
           "ticks": "",
           "title": {
            "standoff": 15
           },
           "zerolinecolor": "white",
           "zerolinewidth": 2
          },
          "yaxis": {
           "automargin": true,
           "gridcolor": "white",
           "linecolor": "white",
           "ticks": "",
           "title": {
            "standoff": 15
           },
           "zerolinecolor": "white",
           "zerolinewidth": 2
          }
         }
        },
        "title": {
         "text": "MAP TITLE"
        },
        "width": 800
       }
      }
     },
     "metadata": {},
     "output_type": "display_data"
    }
   ],
   "source": [
    "px.set_mapbox_access_token(\"pk.eyJ1IjoibHVpc2RpYmRpbiIsImEiOiJjbGE5bDgyM28wZXdrM3dsdmZqdGVucXN3In0.ZwFwkorjA9Pa7q1dKdHuIA\")\n",
    "\n",
    "fig = px.scatter_mapbox(df_map, lat=\"latBin\", lon=\"lonBin\", labels={'label name':'label name'}, title='MAP TITLE', color=\"sub_event_type\", size=\"counts\")\n",
    "\n",
    "fig.update_layout(autosize=False,\n",
    "    margin=dict(l=0, r=0, t=0, b=0),\n",
    "    height=800,\n",
    "    width=800)\n",
    "\n",
    "fig.update_geos(fitbounds=\"locations\", visible=False)"
   ]
  },
  {
   "cell_type": "code",
   "execution_count": 83,
   "metadata": {},
   "outputs": [
    {
     "data": {
      "text/html": [
       "<div>\n",
       "<style scoped>\n",
       "    .dataframe tbody tr th:only-of-type {\n",
       "        vertical-align: middle;\n",
       "    }\n",
       "\n",
       "    .dataframe tbody tr th {\n",
       "        vertical-align: top;\n",
       "    }\n",
       "\n",
       "    .dataframe thead th {\n",
       "        text-align: right;\n",
       "    }\n",
       "</style>\n",
       "<table border=\"1\" class=\"dataframe\">\n",
       "  <thead>\n",
       "    <tr style=\"text-align: right;\">\n",
       "      <th></th>\n",
       "      <th>data_id</th>\n",
       "      <th>iso</th>\n",
       "      <th>event_id_cnty</th>\n",
       "      <th>event_id_no_cnty</th>\n",
       "      <th>day</th>\n",
       "      <th>month</th>\n",
       "      <th>year</th>\n",
       "      <th>time_precision</th>\n",
       "      <th>event_type</th>\n",
       "      <th>sub_event_type</th>\n",
       "      <th>...</th>\n",
       "      <th>notes</th>\n",
       "      <th>fatalities</th>\n",
       "      <th>timestamp</th>\n",
       "      <th>iso3</th>\n",
       "      <th>event_code_per_group</th>\n",
       "      <th>action_group</th>\n",
       "      <th>date</th>\n",
       "      <th>climate</th>\n",
       "      <th>latBin</th>\n",
       "      <th>lonBin</th>\n",
       "    </tr>\n",
       "  </thead>\n",
       "  <tbody>\n",
       "    <tr>\n",
       "      <th>1</th>\n",
       "      <td>9607188</td>\n",
       "      <td>826</td>\n",
       "      <td>GBR5603</td>\n",
       "      <td>5603</td>\n",
       "      <td>28</td>\n",
       "      <td>10</td>\n",
       "      <td>2022</td>\n",
       "      <td>1</td>\n",
       "      <td>Protests</td>\n",
       "      <td>Peaceful protest</td>\n",
       "      <td>...</td>\n",
       "      <td>On 28 October 2022, activists from Extinction ...</td>\n",
       "      <td>0</td>\n",
       "      <td>1667323234</td>\n",
       "      <td>GBR</td>\n",
       "      <td>1</td>\n",
       "      <td>Extinction Rebellion</td>\n",
       "      <td>2022-10-28</td>\n",
       "      <td>Y</td>\n",
       "      <td>57.0</td>\n",
       "      <td>-2.2</td>\n",
       "    </tr>\n",
       "    <tr>\n",
       "      <th>2</th>\n",
       "      <td>9607199</td>\n",
       "      <td>826</td>\n",
       "      <td>GBR5633</td>\n",
       "      <td>5633</td>\n",
       "      <td>28</td>\n",
       "      <td>10</td>\n",
       "      <td>2022</td>\n",
       "      <td>1</td>\n",
       "      <td>Protests</td>\n",
       "      <td>Protest with intervention</td>\n",
       "      <td>...</td>\n",
       "      <td>On 28 October 2022, activists from Just Stop O...</td>\n",
       "      <td>0</td>\n",
       "      <td>1667323234</td>\n",
       "      <td>GBR</td>\n",
       "      <td>1</td>\n",
       "      <td>Just Stop Oil</td>\n",
       "      <td>2022-10-28</td>\n",
       "      <td>Y</td>\n",
       "      <td>51.4</td>\n",
       "      <td>-0.2</td>\n",
       "    </tr>\n",
       "    <tr>\n",
       "      <th>3</th>\n",
       "      <td>9607201</td>\n",
       "      <td>826</td>\n",
       "      <td>GBR5606</td>\n",
       "      <td>5606</td>\n",
       "      <td>28</td>\n",
       "      <td>10</td>\n",
       "      <td>2022</td>\n",
       "      <td>1</td>\n",
       "      <td>Protests</td>\n",
       "      <td>Peaceful protest</td>\n",
       "      <td>...</td>\n",
       "      <td>On 28 October 2022, climate activists from Fri...</td>\n",
       "      <td>0</td>\n",
       "      <td>1667323234</td>\n",
       "      <td>GBR</td>\n",
       "      <td>1</td>\n",
       "      <td>FFF: Fridays for Future</td>\n",
       "      <td>2022-10-28</td>\n",
       "      <td>Y</td>\n",
       "      <td>55.8</td>\n",
       "      <td>-4.4</td>\n",
       "    </tr>\n",
       "    <tr>\n",
       "      <th>6</th>\n",
       "      <td>9607142</td>\n",
       "      <td>826</td>\n",
       "      <td>GBR5615</td>\n",
       "      <td>5615</td>\n",
       "      <td>27</td>\n",
       "      <td>10</td>\n",
       "      <td>2022</td>\n",
       "      <td>1</td>\n",
       "      <td>Protests</td>\n",
       "      <td>Peaceful protest</td>\n",
       "      <td>...</td>\n",
       "      <td>On 27 October 2022, activists from Just Stop O...</td>\n",
       "      <td>0</td>\n",
       "      <td>1667323234</td>\n",
       "      <td>GBR</td>\n",
       "      <td>1</td>\n",
       "      <td>Just Stop Oil</td>\n",
       "      <td>2022-10-27</td>\n",
       "      <td>Y</td>\n",
       "      <td>51.4</td>\n",
       "      <td>-0.2</td>\n",
       "    </tr>\n",
       "    <tr>\n",
       "      <th>11</th>\n",
       "      <td>9607255</td>\n",
       "      <td>826</td>\n",
       "      <td>GBR5636</td>\n",
       "      <td>5636</td>\n",
       "      <td>26</td>\n",
       "      <td>10</td>\n",
       "      <td>2022</td>\n",
       "      <td>1</td>\n",
       "      <td>Protests</td>\n",
       "      <td>Protest with intervention</td>\n",
       "      <td>...</td>\n",
       "      <td>On 26 October 2022, activists from Just Stop O...</td>\n",
       "      <td>0</td>\n",
       "      <td>1667323234</td>\n",
       "      <td>GBR</td>\n",
       "      <td>1</td>\n",
       "      <td>Just Stop Oil</td>\n",
       "      <td>2022-10-26</td>\n",
       "      <td>Y</td>\n",
       "      <td>51.4</td>\n",
       "      <td>-0.2</td>\n",
       "    </tr>\n",
       "    <tr>\n",
       "      <th>...</th>\n",
       "      <td>...</td>\n",
       "      <td>...</td>\n",
       "      <td>...</td>\n",
       "      <td>...</td>\n",
       "      <td>...</td>\n",
       "      <td>...</td>\n",
       "      <td>...</td>\n",
       "      <td>...</td>\n",
       "      <td>...</td>\n",
       "      <td>...</td>\n",
       "      <td>...</td>\n",
       "      <td>...</td>\n",
       "      <td>...</td>\n",
       "      <td>...</td>\n",
       "      <td>...</td>\n",
       "      <td>...</td>\n",
       "      <td>...</td>\n",
       "      <td>...</td>\n",
       "      <td>...</td>\n",
       "      <td>...</td>\n",
       "      <td>...</td>\n",
       "    </tr>\n",
       "    <tr>\n",
       "      <th>8125</th>\n",
       "      <td>8648927</td>\n",
       "      <td>826</td>\n",
       "      <td>GBR3900</td>\n",
       "      <td>3900</td>\n",
       "      <td>12</td>\n",
       "      <td>11</td>\n",
       "      <td>2021</td>\n",
       "      <td>1</td>\n",
       "      <td>Protests</td>\n",
       "      <td>Protest with intervention</td>\n",
       "      <td>...</td>\n",
       "      <td>On 12 November 2021, on the final morning of t...</td>\n",
       "      <td>0</td>\n",
       "      <td>1637105144</td>\n",
       "      <td>GBR</td>\n",
       "      <td>8</td>\n",
       "      <td>Extinction Rebellion</td>\n",
       "      <td>2021-11-12</td>\n",
       "      <td>Y</td>\n",
       "      <td>55.8</td>\n",
       "      <td>-4.4</td>\n",
       "    </tr>\n",
       "    <tr>\n",
       "      <th>8140</th>\n",
       "      <td>8648927</td>\n",
       "      <td>826</td>\n",
       "      <td>GBR3900</td>\n",
       "      <td>3900</td>\n",
       "      <td>12</td>\n",
       "      <td>11</td>\n",
       "      <td>2021</td>\n",
       "      <td>1</td>\n",
       "      <td>Protests</td>\n",
       "      <td>Protest with intervention</td>\n",
       "      <td>...</td>\n",
       "      <td>On 12 November 2021, on the final morning of t...</td>\n",
       "      <td>0</td>\n",
       "      <td>1637105144</td>\n",
       "      <td>GBR</td>\n",
       "      <td>9</td>\n",
       "      <td>FFF: Fridays for Future</td>\n",
       "      <td>2021-11-12</td>\n",
       "      <td>Y</td>\n",
       "      <td>55.8</td>\n",
       "      <td>-4.4</td>\n",
       "    </tr>\n",
       "    <tr>\n",
       "      <th>8147</th>\n",
       "      <td>9406488</td>\n",
       "      <td>826</td>\n",
       "      <td>GBR3831</td>\n",
       "      <td>3831</td>\n",
       "      <td>5</td>\n",
       "      <td>11</td>\n",
       "      <td>2021</td>\n",
       "      <td>1</td>\n",
       "      <td>Protests</td>\n",
       "      <td>Peaceful protest</td>\n",
       "      <td>...</td>\n",
       "      <td>On 5 November 2021, between thousands to aroun...</td>\n",
       "      <td>0</td>\n",
       "      <td>1657642645</td>\n",
       "      <td>GBR</td>\n",
       "      <td>10</td>\n",
       "      <td>Extinction Rebellion</td>\n",
       "      <td>2021-11-05</td>\n",
       "      <td>Y</td>\n",
       "      <td>55.8</td>\n",
       "      <td>-4.4</td>\n",
       "    </tr>\n",
       "    <tr>\n",
       "      <th>8159</th>\n",
       "      <td>9406488</td>\n",
       "      <td>826</td>\n",
       "      <td>GBR3831</td>\n",
       "      <td>3831</td>\n",
       "      <td>5</td>\n",
       "      <td>11</td>\n",
       "      <td>2021</td>\n",
       "      <td>1</td>\n",
       "      <td>Protests</td>\n",
       "      <td>Peaceful protest</td>\n",
       "      <td>...</td>\n",
       "      <td>On 5 November 2021, between thousands to aroun...</td>\n",
       "      <td>0</td>\n",
       "      <td>1657642645</td>\n",
       "      <td>GBR</td>\n",
       "      <td>14</td>\n",
       "      <td>Stop Cambo</td>\n",
       "      <td>2021-11-05</td>\n",
       "      <td>Y</td>\n",
       "      <td>55.8</td>\n",
       "      <td>-4.4</td>\n",
       "    </tr>\n",
       "    <tr>\n",
       "      <th>8161</th>\n",
       "      <td>9406488</td>\n",
       "      <td>826</td>\n",
       "      <td>GBR3831</td>\n",
       "      <td>3831</td>\n",
       "      <td>5</td>\n",
       "      <td>11</td>\n",
       "      <td>2021</td>\n",
       "      <td>1</td>\n",
       "      <td>Protests</td>\n",
       "      <td>Peaceful protest</td>\n",
       "      <td>...</td>\n",
       "      <td>On 5 November 2021, between thousands to aroun...</td>\n",
       "      <td>0</td>\n",
       "      <td>1657642645</td>\n",
       "      <td>GBR</td>\n",
       "      <td>15</td>\n",
       "      <td>Ocean Rebellion</td>\n",
       "      <td>2021-11-05</td>\n",
       "      <td>Y</td>\n",
       "      <td>55.8</td>\n",
       "      <td>-4.4</td>\n",
       "    </tr>\n",
       "  </tbody>\n",
       "</table>\n",
       "<p>1264 rows × 37 columns</p>\n",
       "</div>"
      ],
      "text/plain": [
       "      data_id  iso event_id_cnty  event_id_no_cnty  day  month  year  \\\n",
       "1     9607188  826       GBR5603              5603   28     10  2022   \n",
       "2     9607199  826       GBR5633              5633   28     10  2022   \n",
       "3     9607201  826       GBR5606              5606   28     10  2022   \n",
       "6     9607142  826       GBR5615              5615   27     10  2022   \n",
       "11    9607255  826       GBR5636              5636   26     10  2022   \n",
       "...       ...  ...           ...               ...  ...    ...   ...   \n",
       "8125  8648927  826       GBR3900              3900   12     11  2021   \n",
       "8140  8648927  826       GBR3900              3900   12     11  2021   \n",
       "8147  9406488  826       GBR3831              3831    5     11  2021   \n",
       "8159  9406488  826       GBR3831              3831    5     11  2021   \n",
       "8161  9406488  826       GBR3831              3831    5     11  2021   \n",
       "\n",
       "      time_precision event_type             sub_event_type  ...  \\\n",
       "1                  1   Protests           Peaceful protest  ...   \n",
       "2                  1   Protests  Protest with intervention  ...   \n",
       "3                  1   Protests           Peaceful protest  ...   \n",
       "6                  1   Protests           Peaceful protest  ...   \n",
       "11                 1   Protests  Protest with intervention  ...   \n",
       "...              ...        ...                        ...  ...   \n",
       "8125               1   Protests  Protest with intervention  ...   \n",
       "8140               1   Protests  Protest with intervention  ...   \n",
       "8147               1   Protests           Peaceful protest  ...   \n",
       "8159               1   Protests           Peaceful protest  ...   \n",
       "8161               1   Protests           Peaceful protest  ...   \n",
       "\n",
       "                                                  notes  fatalities  \\\n",
       "1     On 28 October 2022, activists from Extinction ...           0   \n",
       "2     On 28 October 2022, activists from Just Stop O...           0   \n",
       "3     On 28 October 2022, climate activists from Fri...           0   \n",
       "6     On 27 October 2022, activists from Just Stop O...           0   \n",
       "11    On 26 October 2022, activists from Just Stop O...           0   \n",
       "...                                                 ...         ...   \n",
       "8125  On 12 November 2021, on the final morning of t...           0   \n",
       "8140  On 12 November 2021, on the final morning of t...           0   \n",
       "8147  On 5 November 2021, between thousands to aroun...           0   \n",
       "8159  On 5 November 2021, between thousands to aroun...           0   \n",
       "8161  On 5 November 2021, between thousands to aroun...           0   \n",
       "\n",
       "       timestamp iso3  event_code_per_group             action_group  \\\n",
       "1     1667323234  GBR                     1     Extinction Rebellion   \n",
       "2     1667323234  GBR                     1            Just Stop Oil   \n",
       "3     1667323234  GBR                     1  FFF: Fridays for Future   \n",
       "6     1667323234  GBR                     1            Just Stop Oil   \n",
       "11    1667323234  GBR                     1            Just Stop Oil   \n",
       "...          ...  ...                   ...                      ...   \n",
       "8125  1637105144  GBR                     8     Extinction Rebellion   \n",
       "8140  1637105144  GBR                     9  FFF: Fridays for Future   \n",
       "8147  1657642645  GBR                    10     Extinction Rebellion   \n",
       "8159  1657642645  GBR                    14               Stop Cambo   \n",
       "8161  1657642645  GBR                    15          Ocean Rebellion   \n",
       "\n",
       "            date climate latBin lonBin  \n",
       "1     2022-10-28       Y   57.0   -2.2  \n",
       "2     2022-10-28       Y   51.4   -0.2  \n",
       "3     2022-10-28       Y   55.8   -4.4  \n",
       "6     2022-10-27       Y   51.4   -0.2  \n",
       "11    2022-10-26       Y   51.4   -0.2  \n",
       "...          ...     ...    ...    ...  \n",
       "8125  2021-11-12       Y   55.8   -4.4  \n",
       "8140  2021-11-12       Y   55.8   -4.4  \n",
       "8147  2021-11-05       Y   55.8   -4.4  \n",
       "8159  2021-11-05       Y   55.8   -4.4  \n",
       "8161  2021-11-05       Y   55.8   -4.4  \n",
       "\n",
       "[1264 rows x 37 columns]"
      ]
     },
     "execution_count": 83,
     "metadata": {},
     "output_type": "execute_result"
    }
   ],
   "source": [
    "df = df[]"
   ]
  },
  {
   "cell_type": "code",
   "execution_count": null,
   "metadata": {},
   "outputs": [],
   "source": []
  }
 ],
 "metadata": {
  "kernelspec": {
   "display_name": "Python 3.11.0 ('hackathon')",
   "language": "python",
   "name": "python3"
  },
  "language_info": {
   "codemirror_mode": {
    "name": "ipython",
    "version": 3
   },
   "file_extension": ".py",
   "mimetype": "text/x-python",
   "name": "python",
   "nbconvert_exporter": "python",
   "pygments_lexer": "ipython3",
   "version": "3.11.0"
  },
  "orig_nbformat": 4,
  "vscode": {
   "interpreter": {
    "hash": "c666f72e0ed4b2d01b311a9d5cce1e5886b0d87fa2be505f6368ffd20032df9d"
   }
  }
 },
 "nbformat": 4,
 "nbformat_minor": 2
}
