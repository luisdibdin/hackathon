{
 "cells": [
  {
   "cell_type": "code",
   "execution_count": 233,
   "metadata": {},
   "outputs": [],
   "source": [
    "import pandas as pd\n",
    "import plotly.express as px\n",
    "import plotly.offline as py\n"
   ]
  },
  {
   "cell_type": "code",
   "execution_count": 4,
   "metadata": {},
   "outputs": [],
   "source": [
    "df = pd.read_csv(\"../data_raw/lrf_public_file_review.tab\", sep=\"\\t\", engine=\"python\")"
   ]
  },
  {
   "cell_type": "code",
   "execution_count": 224,
   "metadata": {},
   "outputs": [],
   "source": [
    "relevant_keys = {\n",
    "    \"L3_A\": \"In your own words, what is the greatest source of RISK TO YOUR SAFETY in your daily life?\",\n",
    "    \"L3_B\": \"Other than what you just mentioned in your own words what is another MAJOR source of RISK TO YOUR SAFETY in your daily life?\",\n",
    "    \"L5\": \"Do you think that climate change is a very serious threat, a somewhat serious threat, or not a threat at all to the people in this country in the next 20 years?\"\n",
    "}"
   ]
  },
  {
   "cell_type": "code",
   "execution_count": 6,
   "metadata": {},
   "outputs": [],
   "source": [
    "survey_columns = df.columns[df.columns.str.startswith(\"L\")].to_list()\n",
    "drop_columns = [item for item in survey_columns if item not in list(relevant_keys.keys())]\n",
    "df_relevant = df.drop(drop_columns, axis=1)"
   ]
  },
  {
   "cell_type": "code",
   "execution_count": 210,
   "metadata": {},
   "outputs": [],
   "source": [
    "bins = [15, 25, 35, 50, 70, 100]\n",
    "labels = [\"15 to 24\", \"25 to 34\", \"35 to 49\", \"50 to 69\", \"70+\"]\n",
    "\n",
    "df_relevant[\"AgeGroup\"] = pd.cut(df_relevant[\"Age\"], bins=bins, labels=labels, right=False)"
   ]
  },
  {
   "cell_type": "code",
   "execution_count": 211,
   "metadata": {},
   "outputs": [],
   "source": [
    "l3_a = df_relevant.pivot_table(index=[\"Country\", \"AgeGroup\"], columns=\"L3_A\", values=\"projection_weight\", aggfunc='sum').astype(int)\n",
    "l3_a = l3_a.rename_axis(None, axis=1)\n",
    "l3_a.columns = l3_a.columns.astype(str)\n",
    "\n",
    "l3_b = df_relevant.pivot_table(index=[\"Country\", \"AgeGroup\"], columns=\"L3_B\", values=\"projection_weight\", aggfunc='sum').astype(int)\n",
    "l3_b = l3_b.rename({\" \": \"99\"}, axis=1)\n",
    "l3_b = l3_b.rename_axis(None, axis=1)\n",
    "\n",
    "l3 = l3_a + l3_a\n",
    "\n",
    "l5 = df_relevant.pivot_table(index=[\"Country\", \"AgeGroup\"], columns=\"L5\", values=\"projection_weight\", aggfunc='sum').astype(int)"
   ]
  },
  {
   "cell_type": "code",
   "execution_count": 212,
   "metadata": {},
   "outputs": [],
   "source": [
    "l5_bar = l5.copy()\n",
    "l5_bar[\"total\"] = l5.sum(axis=1)\n",
    "country_population = l5_bar.reset_index().groupby(\"Country\").agg(Country=(\"total\", \"sum\"))\n",
    "l5_bar = l5_bar.drop([99], axis=1)\n",
    "l5_bar = l5_bar.join(country_population, on=\"Country\")\n",
    "\n",
    "l5_bar = l5_bar[[1, 2, 3, 98]].apply(lambda x: (x/l5_bar[\"Country\"])*100_000)\n",
    "l5_bar = l5_bar.round(-1).astype(int)"
   ]
  },
  {
   "cell_type": "code",
   "execution_count": 237,
   "metadata": {},
   "outputs": [
    {
     "data": {
      "text/plain": [
       "'../plots/concern_bar.html'"
      ]
     },
     "execution_count": 237,
     "metadata": {},
     "output_type": "execute_result"
    }
   ],
   "source": [
    "import plotly.graph_objects as go\n",
    "\n",
    "countries = [\"United Kingdom\", \"Ireland\", \"France\", \"Germany\", \"Spain\", \"Netherlands\", \"Norway\", \"Sweden\"]\n",
    "\n",
    "fig = go.Figure()\n",
    "buttons = []\n",
    "i = 0\n",
    "\n",
    "colors = [\"rgb(253,231,37)\", \"rgb(53,183,121)\", \"rgb(49,104,142)\", \"rgb(68,1,84)\"][::-1]\n",
    "\n",
    "for country in countries:\n",
    "    current = l5_bar.loc[country]\n",
    "    current = current.rename({1: \"Very serious threat\", 2: \"Somewhat serious threat\", 3: \"Not a threat at all\", 98: \"Don't know\"}, axis=1)\n",
    "\n",
    "    for rgb, col in enumerate(current.columns.to_list()[::-1]):\n",
    "\n",
    "        fig.add_trace(\n",
    "            go.Bar(\n",
    "                x=current.index.to_list(),\n",
    "                y=current[col].to_list(),\n",
    "                name=col,\n",
    "                visible=(i == 0),\n",
    "                marker=dict(color=colors[rgb])\n",
    "            )\n",
    "        )\n",
    "\n",
    "    args = [False] * len(countries) * len(current.columns)\n",
    "    args[i*len(current.columns):(i*len(current.columns))+len(current.columns)] = [True] * len(current.columns)\n",
    "    \n",
    "    button = dict(label = country,\n",
    "                  method = \"update\",\n",
    "                  args=[{\"visible\": args}])\n",
    "    \n",
    "    buttons.append(button)\n",
    "    \n",
    "    i += 1\n",
    "\n",
    "fig.update_layout(\n",
    "    updatemenus=[\n",
    "        dict(\n",
    "            type=\"dropdown\",\n",
    "            direction=\"down\",\n",
    "            x=1,\n",
    "            y=1,\n",
    "            buttons=buttons\n",
    "        )\n",
    "    ],\n",
    "    barmode=\"stack\"\n",
    ")\n",
    "\n",
    "# Set title\n",
    "fig.update_layout(title_text=\"Do you think that climate change is a very serious threat, a somewhat serious threat,<br>or not a threat at all to the people in this country in the next 20 years?\")\n",
    "\n",
    "fig.update_xaxes(\n",
    "    title_text = \"Age\"\n",
    ")\n",
    "\n",
    "fig.update_yaxes(\n",
    "    title_text = \"People per 100,000 adults\"\n",
    ")\n",
    "\n",
    "py.plot(fig, filename=\"../plots/concern_bar.html\")"
   ]
  },
  {
   "cell_type": "code",
   "execution_count": 43,
   "metadata": {},
   "outputs": [],
   "source": [
    "import json\n",
    "\n",
    "with open(\"../data_raw/countries.geojson\", \"r\") as f:\n",
    "    country_borders = json.load(f)"
   ]
  },
  {
   "cell_type": "code",
   "execution_count": 217,
   "metadata": {},
   "outputs": [],
   "source": [
    "l5_total = l5.copy()\n",
    "l5_total = l5_total.groupby(\"Country\").sum()\n",
    "l5_total[\"% threat\"] = (l5_total[1] + l5_total[2])/l5_total.sum(axis=1)"
   ]
  },
  {
   "cell_type": "code",
   "execution_count": 218,
   "metadata": {},
   "outputs": [],
   "source": [
    "import pycountry\n",
    "\n",
    "input_countries = l5_total.index.to_list()\n",
    "countries = {country.name : country.alpha_3 for country in pycountry.countries}"
   ]
  },
  {
   "cell_type": "code",
   "execution_count": 219,
   "metadata": {},
   "outputs": [],
   "source": [
    "countries[\"Vietnam\"] = countries.get(\"Viet Nam\")\n",
    "countries[\"Russia\"] = countries.get(\"Russian Federation\")\n",
    "countries[\"Bolivia\"] = countries.get(\"Bolivia, Plurinational State of\")\n",
    "countries[\"Bosnia Herzegovina\"] = countries.get(\"Bosnia and Herzegovina\")\n",
    "countries[\"Congo Brazzaville\"] = countries.get(\"Congo, The Democratic Republic of the\")\n",
    "countries[\"Iran\"] = countries.get(\"Iran, Islamic Republic of\")\n",
    "countries[\"Ivory Coast\"] = countries.get(\"Iran, Islamic Republic of\")\n",
    "countries[\"Iran\"] = countries.get(\"Côte d\\'Ivoire\")\n",
    "countries[\"Laos\"] = countries[\"Lao People\\'s Democratic Republic\"]\n",
    "countries[\"Palestine\"] = countries[\"Palestine, State of\"]\n",
    "countries[\"South Korea\"] = countries[\"Korea, Republic of\"]\n",
    "countries[\"Taiwan\"] = countries[\"Taiwan, Province of China\"]\n",
    "countries[\"Taiwan\"] = countries[\"Taiwan, Province of China\"]\n",
    "countries[\"Tanzania\"] = countries[\"Tanzania, United Republic of\"]\n",
    "countries[\"Venezuela\"] = countries[\"Venezuela, Bolivarian Republic of\"]\n",
    "\n",
    "l5_total[\"codes\"] = [countries.get(country) for country in input_countries]\n",
    "l5_map = l5_total.reset_index()"
   ]
  },
  {
   "cell_type": "code",
   "execution_count": 220,
   "metadata": {},
   "outputs": [],
   "source": [
    "l5_map[\"% threat\"] = l5_map[\"% threat\"]*100\n",
    "l5_map[\"% threat\"] = l5_map[\"% threat\"].round(0)"
   ]
  },
  {
   "cell_type": "code",
   "execution_count": 235,
   "metadata": {},
   "outputs": [
    {
     "data": {
      "text/plain": [
       "'../plots/concern_map.html'"
      ]
     },
     "execution_count": 235,
     "metadata": {},
     "output_type": "execute_result"
    }
   ],
   "source": [
    "px.set_mapbox_access_token(\"pk.eyJ1IjoibHVpc2RpYmRpbiIsImEiOiJjbGE5bDgyM28wZXdrM3dsdmZqdGVucXN3In0.ZwFwkorjA9Pa7q1dKdHuIA\")\n",
    "\n",
    "fig = px.choropleth_mapbox(l5_map, geojson=country_borders, locations=\"codes\", featureidkey=\"properties.ISO_A3\", color=\"% threat\", color_continuous_scale=\"Viridis\", hover_name=\"Country\", hover_data={\"codes\":False, \"% threat\": True})\n",
    "\n",
    "fig.update_layout(\n",
    "    title_text=\"Percent of people who believe climate change will be very serious or somewhat serious threat in the next 20 years.\",\n",
    "    autosize=False,\n",
    "    margin=dict(l=0, r=0, t=0, b=0),\n",
    "    height=800,\n",
    "    width=1000,\n",
    "    mapbox_zoom=1.5,\n",
    "    mapbox_center = {\"lat\": 35, \"lon\": 10})\n",
    "\n",
    "py.plot(fig, filename=\"../plots/concern_map.html\")\n"
   ]
  }
 ],
 "metadata": {
  "kernelspec": {
   "display_name": "Python 3.11.0 ('hackathon')",
   "language": "python",
   "name": "python3"
  },
  "language_info": {
   "codemirror_mode": {
    "name": "ipython",
    "version": 3
   },
   "file_extension": ".py",
   "mimetype": "text/x-python",
   "name": "python",
   "nbconvert_exporter": "python",
   "pygments_lexer": "ipython3",
   "version": "3.11.0"
  },
  "orig_nbformat": 4,
  "vscode": {
   "interpreter": {
    "hash": "c666f72e0ed4b2d01b311a9d5cce1e5886b0d87fa2be505f6368ffd20032df9d"
   }
  }
 },
 "nbformat": 4,
 "nbformat_minor": 2
}
